{
 "metadata": {
  "name": "",
  "signature": "sha256:c6bb6fb49810962f40c8636d61ae9d863324122f10d5b2f2424a764c8929505f"
 },
 "nbformat": 3,
 "nbformat_minor": 0,
 "worksheets": [
  {
   "cells": [
    {
     "cell_type": "markdown",
     "metadata": {},
     "source": [
      "#Large Scale Hierarchical Text Classification "
     ]
    },
    {
     "cell_type": "markdown",
     "metadata": {},
     "source": [
      "\u0418\u043c\u0435\u0435\u0442\u0441\u044f \u043c\u043d\u043e\u0436\u0435\u0441\u0442\u0432\u043e \u0434\u043e\u043a\u0443\u043c\u0435\u043d\u0442\u043e\u0432 $D$ (\u043e\u0431\u0443\u0447\u0430\u044e\u0449\u0430\u044f \u0432\u044b\u0431\u043e\u0440\u043a\u0430) \u0438 \u043c\u043d\u043e\u0436\u0435\u0441\u0442\u0432\u043e \u043a\u043b\u0430\u0441\u0441\u043e\u0432 $C$, \u043e\u0440\u0433\u0430\u043d\u0438\u0437\u043e\u0432\u0430\u043d\u043d\u044b\u0445 \u0432\n",
      "\u0438\u0435\u0440\u0430\u0440\u0445\u0438\u044e, \u043a\u0430\u0436\u0434\u043e\u043c\u0443 \u0434\u043e\u043a\u0443\u043c\u0435\u043d\u0442\u0443 \u0438\u0437 $D$ \u043f\u0440\u0438\u043f\u0438\u0441\u0430\u043d \u043e\u0434\u0438\u043d \u043a\u043b\u0430\u0441\u0441 \u0438\u0437 $C$. \u0422\u0440\u0435\u0431\u0443\u0435\u0442\u0441\u044f \u043d\u0430 \u043e\u0441\u043d\u043e\u0432\u0435 \u044d\u0442\u0438\u0445 \u0434\u0430\u043d\u043d\u044b\u0445\n",
      "\u043f\u043e\u0441\u0442\u0440\u043e\u0438\u0442\u044c \u043f\u0440\u043e\u0446\u0435\u0434\u0443\u0440\u0443 \u0430\u0432\u0442\u043e\u043c\u0430\u0442\u0438\u0447\u0435\u0441\u043a\u043e\u0439 \u043a\u043b\u0430\u0441\u0441\u0438\u0444\u0438\u043a\u0430\u0446\u0438\u0438 \u0442\u0435\u043a\u0441\u0442\u043e\u0432. \n",
      "\u0421\u0442\u0440\u0443\u043a\u0442\u0443\u0440\u0443 \u043a\u043b\u0430\u0441\u0441\u043e\u0432 \u043c\u043e\u0436\u043d\u043e \u043f\u0440\u0435\u0434\u0441\u0442\u0430\u0432\u0438\u0442\u044c \u0432 \u0432\u0438\u0434\u0435 \u0434\u0435\u0440\u0435\u0432\u0430, \u043f\u0440\u0438\u0447\u0435\u043c \u043a\u043b\u0430\u0441\u0441\u0438\u0444\u0438\u043a\u0430\u0446\u0438\u044f \u043f\u0440\u043e\u0445\u043e\u0434\u0438\u0442 \u0442\u043e\u043b\u044c\u043a\u043e \u043f\u043e\n",
      "\u043b\u0438\u0441\u0442\u044c\u044f\u043c \u044d\u0442\u043e\u0433\u043e \u0434\u0435\u0440\u0435\u0432\u0430. "
     ]
    },
    {
     "cell_type": "markdown",
     "metadata": {},
     "source": [
      "## \u0412\u0435\u043a\u0442\u043e\u0440\u043d\u043e\u0435\u00a0\u043f\u0440\u0435\u0434\u0441\u0442\u0430\u0432\u043b\u0435\u043d\u0438\u0435\u00a0\u0434\u043e\u043a\u0443\u043c\u0435\u043d\u0442\u0430"
     ]
    },
    {
     "cell_type": "markdown",
     "metadata": {},
     "source": [
      "\u0414\u043e\u043a\u0443\u043c\u0435\u043d\u0442, \u043a\u0430\u043a \u043f\u043e\u0441\u043b\u0435\u0434\u043e\u0432\u0430\u0442\u0435\u043b\u044c\u043d\u043e\u0441\u0442\u044c \u0441\u0438\u043c\u0432\u043e\u043b\u043e\u0432, \u044f\u0432\u043b\u044f\u0435\u0442\u0441\u044f \u043f\u043b\u043e\u0445\u0438\u043c \u043e\u0431\u044a\u0435\u043a\u0442\u043e\u043c \u0434\u043b\u044f \u043a\u043b\u0430\u0441\u0441\u0438\u0444\u0438\u043a\u0430\u0446\u0438\u0438. \u041e\u0431\u044b\u0447\u043d\u043e\n",
      "\u0434\u043e\u043a\u0443\u043c\u0435\u043d\u0442\u044b \u043f\u0440\u0435\u043e\u0431\u0440\u0430\u0437\u0443\u044e\u0442\u0441\u044f \u0432 \u0432\u0435\u043a\u0442\u043e\u0440\u043d\u043e\u0435 \u043f\u0440\u0435\u0434\u0441\u0442\u0430\u0432\u043b\u0435\u043d\u0438\u0435 \u0432 \u043f\u0440\u043e\u0441\u0442\u0440\u0430\u043d\u0441\u0442\u0432\u0435 $R^n$.\n",
      "\n",
      "$\\bf{\u041f\u0440\u0435\u0434\u043f\u043e\u043b\u043e\u0436\u0435\u043d\u0438\u0435}$: \u043f\u043e\u043f\u0430\u0434\u0430\u043d\u0438\u0435 \u0434\u043e\u043a\u0443\u043c\u0435\u043d\u0442\u0430 \u0432 \u0442\u043e\u0442 \u0438\u043b\u0438 \u0438\u043d\u043e\u0439 \u043a\u043b\u0430\u0441\u0441 \u0437\u0430\u0432\u0438\u0441\u0438\u0442 \u043e\u0442 \u0441\u043b\u043e\u0432, \u0432\u0445\u043e\u0434\u044f\u0449\u0438\u0445 \u0432 \u0434\u0430\u043d\u043d\u044b\u0439 \u0442\u0435\u043a\u0441\u0442.\n",
      "\n",
      "\u0414\u043b\u044f \u0443\u043c\u0435\u043d\u044c\u0448\u0435\u043d\u0438\u044f \u0440\u0430\u0437\u043c\u0435\u0440\u043d\u043e\u0441\u0442\u0438 \u0438 \u0443\u0432\u0435\u043b\u0438\u0447\u0435\u043d\u0438\u044f \u0438\u043d\u0444\u043e\u0440\u043c\u0430\u0442\u0438\u0432\u043d\u043e\u0441\u0442\u0438 \u0438\u0441\u043f\u043e\u043b\u044c\u0437\u0443\u044e\u0442\u0441\u044f \u0440\u0430\u0437\u043b\u0438\u0447\u043d\u044b\u0435 \u0442\u0435\u0445\u043d\u0438\u043a\u0438 \u043d\u0430 \u044d\u0442\u0430\u043f\u0435 \u043f\u0440\u0438\u0432\u0435\u0434\u0435\u043d\u0438\u044f \u0434\u043e\u043a\u0443\u043c\u0435\u043d\u0442\u0430 \u043a \u0432\u0435\u043a\u0442\u043e\u0440\u043d\u043e\u043c\u0443 \u0432\u0438\u0434\u0443:\n",
      "1. \u0423\u0434\u0430\u043b\u0435\u043d\u0438\u0435 \u00ab\u0441\u0442\u043e\u043f-\u0441\u043b\u043e\u0432\u00bb\n",
      "2. \u041d\u043e\u0440\u043c\u0430\u043b\u0438\u0437\u0430\u0446\u0438\u044f \u0441\u043b\u043e\u0432\n",
      "3. \u041e\u0431\u044a\u0435\u0434\u0438\u043d\u0435\u043d\u0438\u0435 \u0443\u0441\u0442\u043e\u0439\u0447\u0438\u0432\u044b\u0445 \u0441\u043b\u043e\u0432\u043e\u0441\u043e\u0447\u0435\u0442\u0430\u043d\u0438\u0439, \u0441\u0438\u043d\u043e\u043d\u0438\u043c\u043e\u0432 \u0432 \u043e\u0434\u0438\u043d \u0442\u0435\u0440\u043c.\n",
      "\n",
      "$\\bf{\u0422\u0435\u0440\u043c}$ - \u043d\u0435\u043a\u043e\u0442\u043e\u0440\u0430\u044f \u044d\u043b\u0435\u043c\u0435\u043d\u0442\u0430\u0440\u043d\u0430\u044f, \u043d\u0435\u0434\u0435\u043b\u0438\u043c\u0430\u044f \u0441\u043c\u044b\u0441\u043b\u043e\u0432\u0430\u044f \u0435\u0434\u0438\u043d\u0438\u0446\u0430 \u0442\u0435\u043a\u0441\u0442\u0430. "
     ]
    },
    {
     "cell_type": "markdown",
     "metadata": {},
     "source": [
      "## \u041e\u0441\u043e\u0431\u0435\u043d\u043d\u043e\u0441\u0442\u0438\u00a0\u0437\u0430\u0434\u0430\u0447\u0438\u00a0"
     ]
    },
    {
     "cell_type": "markdown",
     "metadata": {},
     "source": [
      "1. \u0420\u0430\u0437\u0440\u0435\u0436\u0435\u043d\u043d\u043e\u0441\u0442\u044c \u043f\u0440\u043e\u0441\u0442\u0440\u0430\u043d\u0441\u0442\u0432\u0430. \n",
      "2. \u0412\u044b\u0441\u043e\u043a\u0430\u044f \u0440\u0430\u0437\u043c\u0435\u0440\u043d\u043e\u0441\u0442\u044c \u043f\u0440\u043e\u0441\u0442\u0440\u0430\u043d\u0441\u0442\u0432\u0430. \n",
      "3. \u041d\u0435\u0441\u0442\u0430\u0442\u0438\u0441\u0442\u0438\u0447\u0435\u0441\u043a\u0438\u0439 \u0445\u0430\u0440\u0430\u043a\u0442\u0435\u0440 \u0434\u0430\u043d\u043d\u044b\u0445. \n",
      "4. \u0411\u043e\u043b\u044c\u0448\u043e\u0439 \u043e\u0431\u044a\u0435\u043c \u0434\u0430\u043d\u043d\u044b\u0445 \u0438 \u0441\u043b\u043e\u0436\u043d\u0430\u044f \u0441\u0442\u0440\u0443\u043a\u0442\u0443\u0440\u0430 \u043a\u043b\u0430\u0441\u0441\u043e\u0432. "
     ]
    },
    {
     "cell_type": "markdown",
     "metadata": {},
     "source": [
      "## \u041f\u0440\u0435\u0434\u043e\u0431\u0440\u0430\u0431\u043e\u0442\u043a\u0430\u00a0\u0432\u0435\u043a\u0442\u043e\u0440\u043d\u043e\u0433\u043e\u00a0\u043f\u0440\u043e\u0441\u0442\u0440\u0430\u043d\u0441\u0442\u0432\u0430\u00a0"
     ]
    },
    {
     "cell_type": "markdown",
     "metadata": {},
     "source": [
      "1. \u0411\u0438\u043d\u0430\u0440\u043d\u044b\u0439 \u0432\u0438\u0434(1 - \u0435\u0441\u043b\u0438 \u0432\u0445\u043e\u0434\u0438\u0442 \u0432 \u0442\u0435\u043a\u0441\u0442, 0 - \u0435\u0441\u043b\u0438 \u043d\u0435\u0442)\n",
      "2. \u0427\u0430\u0441\u0442\u043e\u0442\u0430 \u0432\u0445\u043e\u0436\u0434\u0435\u043d\u0438\u044f\n",
      "3. $\\bf{TF * IDF}$:\n",
      "    * $\\bf{TF}$ - \u043e\u0442\u043d\u043e\u0448\u0435\u043d\u0438\u0435 \u0447\u0438\u0441\u043b\u0430 \u0432\u0445\u043e\u0436\u0434\u0435\u043d\u0438\u044f \u043d\u0435\u043a\u043e\u0442\u043e\u0440\u043e\u0433\u043e \u0441\u043b\u043e\u0432\u0430 $i$ \u043a \u043e\u0431\u0449\u0435\u043c\u0443 \u043a\u043e\u043b\u0438\u0447\u0435\u0441\u0442\u0432\u0443 \u0441\u043b\u043e\u0432 \u0434\u043e\u043a\u0443\u043c\u0435\u043d\u0442\u0430 $d_j$: $\\large{tf_{ij} = \\frac{t_i}{\\sum_{l=1}^T t_l}}$ \n",
      "    * $\\bf{IDF}$ - \u0438\u043d\u0432\u0435\u0440\u0441\u0438\u044f \u0447\u0430\u0441\u0442\u043e\u0442\u044b, \u0441 \u043a\u043e\u0442\u043e\u0440\u043e\u0439 \u043d\u0435\u043a\u043e\u0442\u043e\u0440\u044b\u0439 \u0442\u0435\u0440\u043c \u0432\u0441\u0442\u0440\u0435\u0447\u0430\u0435\u0442\u0441\u044f \u0432 \u0434\u043e\u043a\u0443\u043c\u0435\u043d\u0442\u0430\u0445 \u043a\u043e\u043b\u043b\u0435\u043a\u0446\u0438\u0438: $\\large{idf_i = \\log \\frac{|D|}{n_i}}$, \u0433\u0434\u0435 |D| - \u043a\u043e\u043b\u0438\u0447\u0435\u0441\u0442\u0432\u043e \u0434\u043e\u043a\u0443\u043c\u0435\u043d\u0442\u043e\u0432 \u0432 \u043e\u0431\u0443\u0447\u0430\u044e\u0449\u0435\u0439 \u0432\u044b\u0431\u043e\u0440\u043a\u0435, $n_i$ - \u043a\u043e\u043b\u0438\u0447\u0435\u0441\u0442\u0432\u043e \u0434\u043e\u043a\u0443\u043c\u0435\u043d\u0442\u043e\u0432, \u0432 \u043a\u043e\u0442\u043e\u0440\u044b\u0445 \u0432\u0441\u0442\u0440\u0435\u0447\u0430\u0435\u0442\u0441\u044f $i$-\u0435 \u0441\u043b\u043e\u0432\u043e.\n",
      "4. \u041f\u0440\u0435\u043e\u0431\u0440\u0430\u0437\u043e\u0432\u0430\u043d\u0438\u044f,\u00a0\u043e\u0441\u043d\u043e\u0432\u0430\u043d\u043d\u044b\u0435\u00a0\u043d\u0430\u00a0$\\bf{TF * IDF}$\n",
      "    * \u0412\u0437\u0432\u0435\u0448\u0438\u0432\u0430\u043d\u0438\u0435: $\\bf{TF}^p * IDF^{1-p}$, $p \\in (0,1]$ \n",
      "    * \u041d\u043e\u0440\u043c\u0438\u0440\u043e\u0432\u043a\u0430: \n",
      "        * L2: $\\Large{\\frac{tf_i * idf_i}{\\sqrt{\\sum\\limits_{s=1}^T (tf_{sj}idf_i)^2}}}$\n",
      "        * L1: $\\Large{\\frac{tf_i * idf_i}{\\sqrt{\\sum\\limits_{s=1}^T |tf_{sj}idf_i|}}}$"
     ]
    },
    {
     "cell_type": "markdown",
     "metadata": {},
     "source": [
      "## \u041c\u0435\u0442\u0440\u0438\u043a\u0438 \u043a\u0430\u0447\u0435\u0441\u0442\u0432\u0430 \u043a\u043b\u0430\u0441\u0441\u0438\u0444\u0438\u043a\u0430\u0446\u0438\u0438:"
     ]
    },
    {
     "cell_type": "markdown",
     "metadata": {},
     "source": [
      "\u041f\u0443\u0441\u0442\u044c \u043a\u043e\u043d\u0442\u0440\u043e\u043b\u044c\u043d\u0430\u044f \u0432\u044b\u0431\u043e\u0440\u043a\u0430 \u0441\u043e\u0441\u0442\u043e\u0438\u0442 \u0438\u0437 $M$ \u043e\u0431\u044a\u0435\u043a\u0442\u043e\u0432. \u0418\u0437 \u043d\u0438\u0445 $m$ \u043e\u0431\u044a\u0435\u043a\u0442\u043e\u0432 \u043a\u043b\u0430\u0441\u0441\u0438\u0444\u0438\u0446\u0438\u0440\u0443\u044e\u0442\u0441\u044f \u043f\u0440\u0430\u0432\u0438\u043b\u044c\u043d\u043e. "
     ]
    },
    {
     "cell_type": "heading",
     "level": 3,
     "metadata": {},
     "source": [
      "1. $\\bf{Accuracy}$ = $\\large{\\frac{m}{M}}$"
     ]
    },
    {
     "cell_type": "markdown",
     "metadata": {},
     "source": [
      "\u0420\u0430\u0441\u0441\u043c\u043e\u0442\u0440\u0438\u043c \u043e\u0434\u0438\u043d \u043a\u043b\u0430\u0441\u0441. \u041f\u0443\u0441\u0442\u044c $v$ - \u043c\u043d\u043e\u0436\u0435\u0441\u0442\u0432\u043e \u0434\u043e\u043a\u0443\u043c\u0435\u043d\u0442\u043e\u0432, \u043f\u0440\u0438\u043d\u0430\u0434\u043b\u0435\u0436\u0430\u0449\u0438\u0445 \u043a\u043b\u0430\u0441\u0441\u0443 \u0438 $u$ - \u043c\u043d\u043e\u0436\u0435\u0441\u0442\u0432\u043e \u0434\u043e\u043a\u0443\u043c\u0435\u043d\u0442\u043e\u0432, \u043f\u0440\u0438\u043f\u0438\u0441\u0430\u043d\u043d\u044b\u0445 \u043a\u043b\u0430\u0441\u0441\u0443 \u0430\u043b\u0433\u043e\u0440\u0438\u0442\u043c\u043e\u043c:"
     ]
    },
    {
     "cell_type": "heading",
     "level": 3,
     "metadata": {},
     "source": [
      "2. $\\bf{Recall} = $$\\large\\frac{|u \\cap v|}{|v|}$"
     ]
    },
    {
     "cell_type": "heading",
     "level": 3,
     "metadata": {},
     "source": [
      "3. $\\bf{Precision} = $$\\large\\frac{|u \\cap v|}{|u|}$"
     ]
    },
    {
     "cell_type": "heading",
     "level": 3,
     "metadata": {},
     "source": [
      "4. $\\bf{F}$-$\\bf{measure}$ $\\large = \\frac{2*p*r}{p+r}$"
     ]
    },
    {
     "cell_type": "markdown",
     "metadata": {},
     "source": [
      "\u0414\u043b\u044f \u043f\u043e\u043b\u0443\u0447\u0435\u043d\u0438\u044f \u0441\u0432\u043e\u0434\u043d\u044b\u0445 \u043e\u0446\u0435\u043d\u043e\u043a \u043a\u0430\u0447\u0435\u0441\u0442\u0432\u0430 \u043a\u043b\u0430\u0441\u0441\u0438\u0444\u0438\u043a\u0430\u0446\u0438\u0438 \u0432 \u0446\u0435\u043b\u043e\u043c, \u043f\u043e \u0432\u0441\u0435\u043c \u043a\u043b\u0430\u0441\u0441\u0430\u043c \u0432\u0432\u043e\u0434\u044f\u0442\u0441\u044f \u0440\u0430\u0437\u043b\u0438\u0447\u043d\u044b\u0435 \u0443\u0441\u0440\u0435\u0434\u043d\u0435\u043d\u0438\u044f \u0445\u0430\u0440\u0430\u043a\u0442\u0435\u0440\u0438\u0441\u0442\u0438\u043a \u043f\u043e \u0432\u0441\u0435\u043c \u0440\u0443\u0431\u0440\u0438\u043a\u0430\u043c:"
     ]
    },
    {
     "cell_type": "heading",
     "level": 3,
     "metadata": {},
     "source": [
      "5. $\\bf{P_{macro}}$ = $\\large\\frac{1}{|C|} \\sum_{i=1}^{|C|} p_i$"
     ]
    },
    {
     "cell_type": "heading",
     "level": 3,
     "metadata": {},
     "source": [
      "6. $\\bf{P_{micro}}$ = $\\large\\frac{\\sum_{i=1}^{|C|} |u_i \\cap v_i|}{\\sum_{i=1}^{|C|} |u_i|}$"
     ]
    },
    {
     "cell_type": "heading",
     "level": 3,
     "metadata": {},
     "source": [
      "7. Tree Induced Error = $\\large\\frac{1}{D} \\sum\\limits_{i=1}^D distance(p(i), t(i))$"
     ]
    },
    {
     "cell_type": "markdown",
     "metadata": {},
     "source": [
      "## Large Scale Hierarchical Text Classification Challenge http://lshtc.iit.demokritos.gr"
     ]
    },
    {
     "cell_type": "markdown",
     "metadata": {},
     "source": [
      "\u041a \u043d\u0430\u0441\u0442\u043e\u044f\u0449\u0435\u043c\u0443 \u043c\u043e\u043c\u0435\u043d\u0442\u0443 \u043f\u0440\u043e\u0432\u0435\u043b\u0438 \u0447\u0435\u0442\u044b\u0440\u0435 \u043a\u043e\u043d\u043a\u0443\u0440\u0441\u0430.\n",
      "\u041f\u0435\u0440\u0432\u044b\u0439 - \u043e\u0441\u0435\u043d\u044c\u044e 2009 \u0433., \u043f\u043e\u0441\u043b\u0435\u0434\u043d\u0438\u0439 - \u0432\u0435\u0441\u043d\u0430 2014 \u0433. "
     ]
    },
    {
     "cell_type": "markdown",
     "metadata": {},
     "source": [
      "### LHTSC1"
     ]
    },
    {
     "cell_type": "markdown",
     "metadata": {},
     "source": [
      "* \u0414\u0430\u043d\u043d\u044b\u0435 \u043f\u0440\u043e\u0435\u043a\u0442\u0430 \u044f\u0432\u043b\u044f\u044e\u0442\u0441\u044f \u0447\u0430\u0441\u0442\u044c\u044e \u041e\u0442\u043a\u0440\u044b\u0442\u043e\u0433\u043e \u041a\u0430\u0442\u0430\u043b\u043e\u0433\u0430 (ODP, Open Directory Project): http://www.dmoz.org/\n",
      "* \u0417\u0430\u0434\u0430\u043d\u0438\u0435 \u0441\u043e\u0441\u0442\u043e\u0438\u0442 \u0438\u0437 \u0447\u0435\u0442\u044b\u0440\u0435\u0445 \u0431\u043b\u043e\u043a\u043e\u0432 \u0434\u0430\u043d\u043d\u044b\u0445, \u0434\u0430\u043d\u043d\u044b\u0435 \u0432 \u0431\u043b\u043e\u043a\u0430\u0445 \u0447\u0430\u0441\u0442\u0438\u0447\u043d\u043e \u043f\u043e\u0432\u0442\u043e\u0440\u044f\u044e\u0442\u0441\u044f.\n",
      "* \u0412 \u043a\u0430\u0436\u0434\u043e\u043c \u0431\u043b\u043e\u043a\u0435 \u0432\u0441\u0435 \u0434\u0430\u043d\u043d\u044b\u0435 \u0440\u0430\u0437\u0431\u0438\u0442\u044b \u043d\u0430 \u0442\u0440\u0438 \u043c\u043d\u043e\u0436\u0435\u0441\u0442\u0432\u0430: \u043e\u0431\u0443\u0447\u0435\u043d\u0438\u0435 (train), \u0432\u0430\u043b\u0438\u0434\u0430\u0446\u0438\u044f (validation), \u043a\u043e\u043d\u0442\u0440\u043e\u043b\u044c (test).\n",
      "* \u0414\u043e\u043a\u0443\u043c\u0435\u043d\u0442\u044b \u2013 \u044d\u0442\u043e web-\u0441\u0442\u0440\u0430\u043d\u0438\u0446\u044b \u0432 \u0432\u0435\u043a\u0442\u043e\u0440\u043d\u043e\u043c \u043f\u0440\u0435\u0434\u0441\u0442\u0430\u0432\u043b\u0435\u043d\u0438\u0438. \u041f\u0440\u0435\u043e\u0431\u0440\u0430\u0437\u043e\u0432\u0430\u043d\u0438\u0435 \u043a \u0432\u0435\u043a\u0442\u043e\u0440\u043d\u043e\u043c\u0443 \u043f\u0440\u0435\u0434\u0441\u0442\u0430\u0432\u043b\u0435\u043d\u0438\u044e \u043f\u0440\u043e\u0438\u0441\u0445\u043e\u0434\u0438\u0442 \u043f\u043e \u0441\u0442\u0430\u043d\u0434\u0430\u0440\u0442\u043d\u043e\u0439 \u0446\u0435\u043f\u043e\u0447\u043a\u0435: \u043f\u0440\u0435\u0434\u043e\u0431\u0440\u0430\u0431\u043e\u0442\u043a\u0430, \u043e\u0431\u0440\u0435\u0437\u0430\u043d\u0438\u0435 \u043e\u043a\u043e\u043d\u0447\u0430\u043d\u0438\u0439, \u0438\u0437\u0431\u0430\u0432\u043b\u0435\u043d\u0438\u0435 \u043e\u0442 \u043c\u0443\u0441\u043e\u0440\u043d\u044b\u0445 \u044d\u043b\u0435\u043c\u0435\u043d\u0442\u043e\u0432 \u0438 \u0441\u0442\u043e\u043f-\u0441\u043b\u043e\u0432. \n",
      "* \u0417\u043d\u0430\u0447\u0435\u043d\u0438\u0435 \u043f\u0440\u0438\u0437\u043d\u0430\u043a\u043e\u0432 - \u0447\u0430\u0441\u0442\u043e\u0442\u0430 \u0432\u0445\u043e\u0436\u0434\u0435\u043d\u0438\u044f \u0441\u043b\u043e\u0432\u0430 \u0432 \u0442\u0435\u043a\u0441\u0442.\n",
      "* \u041e\u0442\u0434\u0435\u043b\u044c\u043d\u044b\u043c \u0444\u0430\u0439\u043b\u043e\u043c \u043f\u0440\u0438\u043b\u0430\u0433\u0430\u0435\u0442\u0441\u044f \u0438\u0435\u0440\u0430\u0440\u0445\u0438\u0447\u0435\u0441\u043a\u0430\u044f \u0441\u0442\u0440\u0443\u043a\u0442\u0443\u0440\u0430 \u043a\u043b\u0430\u0441\u0441\u043e\u0432, \u043a\u043e\u0442\u043e\u0440\u0430\u044f \u043f\u0440\u0435\u0434\u0441\u0442\u0430\u0432\u043b\u044f\u0435\u0442 \u0441\u043e\u0431\u043e\u0439 \u0434\u0435\u0440\u0435\u0432\u043e. \n",
      "* \u0414\u043e\u043a\u0443\u043c\u0435\u043d\u0442\u044b \u043c\u043e\u0433\u0443\u0442 \u043f\u0440\u0438\u043d\u0430\u0434\u043b\u0435\u0436\u0430\u0442\u044c \u0442\u043e\u043b\u044c\u043a\u043e \u00ab\u043b\u0438\u0441\u0442\u043e\u0432\u043e\u043c\u0443\u00bb \u043a\u043b\u0430\u0441\u0441\u0443 \u0432 \u0438\u0435\u0440\u0430\u0440\u0445\u0438\u0447\u0435\u0441\u043a\u043e\u043c \u0434\u0435\u0440\u0435\u0432\u0435. \u041a\u0430\u0436\u0434\u044b\u0439 \u0434\u043e\u043a\u0443\u043c\u0435\u043d\u0442 \u043c\u043e\u0436\u0435\u0442 \u043f\u0440\u0438\u043d\u0430\u0434\u043b\u0435\u0436\u0430\u0442\u044c \u0442\u043e\u043b\u044c\u043a\u043e \u043e\u0434\u043d\u043e\u043c\u0443 \u043a\u043b\u0430\u0441\u0441\u0443. \n",
      "* \u041f\u0440\u0438\u0437\u043d\u0430\u043a\u043e\u0432\u043e\u0435 \u043f\u0440\u043e\u0441\u0442\u0440\u0430\u043d\u0441\u0442\u0432\u043e \u0441\u043e\u0441\u0442\u043e\u0438\u0442 \u0438\u0437 51032 \u0442\u0435\u0440\u043c\u043e\u0432. \u041a\u043b\u0430\u0441\u0441\u0438\u0444\u0438\u043a\u0430\u0446\u0438\u044f \u043f\u0440\u043e\u0445\u043e\u0434\u0438\u0442 \u043f\u043e 1139 \u043a\u043b\u0430\u0441\u0441\u0430\u043c. \u0412\u0441\u0435\u0433\u043e \u0432 \u0438\u0435\u0440\u0430\u0440\u0445\u0438\u0438 \u043a\u043b\u0430\u0441\u0441\u043e\u0432 2387, \u0433\u043b\u0443\u0431\u0438\u043d\u0430 \u0434\u0435\u0440\u0435\u0432\u0430 \u2013 5.\n",
      "* \u041e\u0431\u044a\u0435\u043c \u0432\u044b\u0431\u043e\u0440\u043e\u043a: train \u2013 4463, validation \u2013 1860, test \u2013 1858. "
     ]
    },
    {
     "cell_type": "code",
     "collapsed": false,
     "input": [
      "import matplotlib.pyplot as plt\n",
      "import sklearn.metrics as skm \n",
      "import sklearn.metrics.pairwise as smp\n",
      "import numpy as np\n",
      "import pydot\n",
      "import heapq\n",
      "\n",
      "from math import log, sqrt\n",
      "from sklearn.datasets import load_svmlight_file\n",
      "from scipy.sparse import *\n",
      "from sklearn.multiclass import OneVsOneClassifier\n",
      "from sklearn.svm import LinearSVC\n",
      "from scipy.stats import itemfreq\n",
      "from sklearn.feature_extraction.text import TfidfTransformer\n",
      "from sklearn.neighbors import NearestNeighbors\n",
      "from IPython.core.display import Image \n",
      "from sklearn.naive_bayes import MultinomialNB\n",
      "from sklearn.neighbors.nearest_centroid import NearestCentroid\n",
      "\n",
      "%matplotlib inline\n",
      "import seaborn as sns\n",
      "sns.set_style(\"darkgrid\")"
     ],
     "language": "python",
     "metadata": {},
     "outputs": [
      {
       "output_type": "stream",
       "stream": "stdout",
       "text": [
        "Couldn't import dot_parser, loading of dot files will not be possible.\n"
       ]
      }
     ],
     "prompt_number": 1
    },
    {
     "cell_type": "markdown",
     "metadata": {},
     "source": [
      "### \u041f\u0440\u0438\u043c\u0435\u0440 \u0441\u0442\u0440\u0443\u043a\u0442\u0443\u0440\u044b \u043a\u043b\u0430\u0441\u0441\u043e\u0432"
     ]
    },
    {
     "cell_type": "code",
     "collapsed": false,
     "input": [
      "example = \"/home/andrew/LSHTC/LSHTC1/example_cat_hier.png\"\n",
      "Image(filename=example) "
     ],
     "language": "python",
     "metadata": {},
     "outputs": [
      {
       "metadata": {},
       "output_type": "pyout",
       "png": "[encoded data removed]",
       "prompt_number": 2,
       "text": [
        "<IPython.core.display.Image at 0x7f8aec5f1dd0>"
       ]
      }
     ],
     "prompt_number": 2
    },
    {
     "cell_type": "markdown",
     "metadata": {},
     "source": [
      "### \u041f\u0443\u0442\u0438 \u043a \u0444\u0430\u0439\u043b\u0430\u043c"
     ]
    },
    {
     "cell_type": "code",
     "collapsed": false,
     "input": [
      "train_file = 'dry-run_lshtc_dataset/Task1_Train:CrawlData_Test:CrawlData/train.txt'\n",
      "trainSorted_file = 'dry-run_lshtc_dataset/Task1_Train:CrawlData_Test:CrawlData/trainSorted.txt'\n",
      "valid_file = 'dry-run_lshtc_dataset/Task1_Train:CrawlData_Test:CrawlData/validation.txt'\n",
      "validSorted_file = 'dry-run_lshtc_dataset/Task1_Train:CrawlData_Test:CrawlData/validationSorted.txt'\n",
      "test_file = 'dry-run_lshtc_dataset/Task1_Train:CrawlData_Test:CrawlData/test.txt'\n",
      "testSorted_file = 'dry-run_lshtc_dataset/Task1_Train:CrawlData_Test:CrawlData/testSorted.txt'\n",
      "cat_visual = 'dry-run_lshtc_dataset/cat_visual/'\n",
      "cat_hier = 'dry-run_lshtc_dataset/cat_hier.txt'"
     ],
     "language": "python",
     "metadata": {},
     "outputs": [],
     "prompt_number": 3
    },
    {
     "cell_type": "markdown",
     "metadata": {},
     "source": [
      "### \u041f\u0440\u0435\u043e\u0431\u0440\u0430\u0437\u043e\u0432\u0430\u043d\u0438\u0435 \u0444\u0430\u0439\u043b\u043e\u0432 \u043a \u043d\u0443\u0436\u043d\u043e\u043c\u0443 \u0444\u043e\u0440\u043c\u0430\u0442\u0443 \n",
      "\n",
      "##### load_svmlight_file \u0447\u0438\u0442\u0430\u0435\u0442 \u0444\u0430\u0439\u043b \u0442\u043e\u043b\u044c\u043a\u043e, \u0435\u0441\u043b\u0438 \u0432\u0441\u0435 \u043f\u0440\u0438\u0437\u043d\u0430\u043a\u0438 \u0434\u043b\u044f \u043a\u0430\u0436\u0434\u043e\u0439 \u0437\u0430\u043f\u0438\u0441\u0438 \u0443\u043f\u043e\u0440\u044f\u0434\u043e\u0447\u0435\u043d\u044b \u043f\u043e \u0432\u043e\u0437\u0440\u0430\u0441\u0442\u0430\u043d\u0438\u044e \u0438 \u0443\u043d\u0438\u043a\u0430\u043b\u044c\u043d\u044b"
     ]
    },
    {
     "cell_type": "markdown",
     "metadata": {},
     "source": [
      "### Train"
     ]
    },
    {
     "cell_type": "code",
     "collapsed": false,
     "input": [
      "# f = open(train_file)\n",
      "# ff = open(trainSorted_file, 'w')\n",
      "# lines = f.readlines()\n",
      "# lines = map(lambda x: x[:-1], lines)\n",
      "\n",
      "# for line in lines:\n",
      "#     l = line.split(' ')\n",
      "#     y = l[0]\n",
      "#     features = map(lambda x: int(x.split(':')[0]), l[1:])\n",
      "#     values = map(lambda x: int(x.split(':')[1]), l[1:])\n",
      "#     y = y + \" \" + ' '.join(map(lambda pair: str(pair[0]) + ':' + str(pair[1]),\n",
      "#                                filter(lambda pair: pair[0] != 0, sorted(zip(features, values))))) + '\\n'\n",
      "#     ff.write(y)"
     ],
     "language": "python",
     "metadata": {},
     "outputs": [],
     "prompt_number": 4
    },
    {
     "cell_type": "markdown",
     "metadata": {},
     "source": [
      "### Validation"
     ]
    },
    {
     "cell_type": "code",
     "collapsed": false,
     "input": [
      "# f = open(valid_file)\n",
      "# ff = open(validSorted_file, 'w')\n",
      "# lines = f.readlines()\n",
      "# lines = map(lambda x: x[:-1], lines)\n",
      "\n",
      "# for line in lines:\n",
      "#     l = line.split(' ')\n",
      "#     y = l[0]\n",
      "#     features = map(lambda x: int(x.split(':')[0]), l[1:])\n",
      "#     values = map(lambda x: int(x.split(':')[1]), l[1:])\n",
      "#     y = y + \" \" + ' '.join(map(lambda pair: str(pair[0]) + ':' + str(pair[1]),\n",
      "#                                filter(lambda pair: pair[0] != 0, sorted(zip(features, values))))) + '\\n'\n",
      "#     ff.write(y)"
     ],
     "language": "python",
     "metadata": {},
     "outputs": [],
     "prompt_number": 5
    },
    {
     "cell_type": "markdown",
     "metadata": {},
     "source": [
      "### Test"
     ]
    },
    {
     "cell_type": "code",
     "collapsed": false,
     "input": [
      "# f = open(test_file)\n",
      "# ff = open(testSorted_file, 'w')\n",
      "# lines = f.readlines()\n",
      "# lines = map(lambda x: x[:-1], lines)\n",
      "\n",
      "# for line in lines:\n",
      "#     l = line.split(' ')\n",
      "#     y = l[0]\n",
      "#     features = map(lambda x: int(x.split(':')[0]), l[1:])\n",
      "#     values = map(lambda x: int(x.split(':')[1]), l[1:])\n",
      "#     y = y + \" \" + ' '.join(map(lambda pair: str(pair[0]) + ':' + str(pair[1]),\n",
      "#                                filter(lambda pair: pair[0] != 0, sorted(zip(features, values))))) + '\\n'\n",
      "#     ff.write(y)"
     ],
     "language": "python",
     "metadata": {},
     "outputs": [],
     "prompt_number": 6
    },
    {
     "cell_type": "markdown",
     "metadata": {},
     "source": [
      "### \u0420\u0430\u0441\u043f\u0440\u0435\u0434\u0435\u043b\u0435\u043d\u0438\u0435 \u043a\u0430\u0442\u0435\u0433\u043e\u0440\u0438\u0439 \u043f\u043e \u0447\u0430\u0441\u0442\u043e\u0442\u0435 \u0432 \u0442\u0440\u0435\u043d\u0438\u0440\u043e\u0432\u043e\u0447\u043d\u043e\u0439 \u0432\u044b\u0431\u043e\u0440\u043a\u0435"
     ]
    },
    {
     "cell_type": "code",
     "collapsed": false,
     "input": [
      "plt.figure(figsize=(14,10))\n",
      "x_train, y_train = load_svmlight_file(trainSorted_file)\n",
      "freq = itemfreq(y_train)\n",
      "freq = dict(zip(map(int,freq.T[0]), map(int,freq.T[1])))\n",
      "sns.distplot(filter(lambda x: x <= 25, freq.values()), bins = 25)\n",
      "plt.show()"
     ],
     "language": "python",
     "metadata": {},
     "outputs": [
      {
       "metadata": {},
       "output_type": "display_data",
       "png": "[encoded data removed]",
       "text": [
        "<matplotlib.figure.Figure at 0x7f8ab7e2e810>"
       ]
      }
     ],
     "prompt_number": 7
    },
    {
     "cell_type": "code",
     "collapsed": false,
     "input": [
      "print sorted(freq.items(), reverse=True, key=lambda x: x[1])[:40]"
     ],
     "language": "python",
     "metadata": {},
     "outputs": [
      {
       "output_type": "stream",
       "stream": "stdout",
       "text": [
        "[(49552, 237), (31158, 75), (31162, 75), (143563, 63), (126216, 44), (45654, 34), (27647, 33), (14605, 32), (46197, 30), (44713, 29), (44268, 28), (37443, 27), (126914, 25), (26363, 25), (16300, 25), (49316, 24), (25994, 24), (48934, 23), (5259, 23), (161317, 23), (139780, 22), (6450, 21), (23562, 21), (43531, 20), (4877, 20), (25877, 20), (144935, 20), (2992, 19), (22674, 18), (137011, 18), (137467, 18), (5142, 18), (46504, 18), (130994, 18), (46382, 17), (31250, 17), (45983, 17), (15459, 17), (45849, 16), (30876, 16)]\n"
       ]
      }
     ],
     "prompt_number": 8
    },
    {
     "cell_type": "markdown",
     "metadata": {},
     "source": [
      "### \u0420\u0430\u0441\u043f\u0440\u0435\u0434\u0435\u043b\u0435\u043d\u0438\u0435 \u043a\u0430\u0442\u0435\u0433\u043e\u0440\u0438\u0439 \u043f\u043e \u0447\u0430\u0441\u0442\u043e\u0442\u0435 \u0432 \u0432\u0430\u043b\u0438\u0434\u0430\u0446\u0438\u043e\u043d\u043d\u043e\u0439 \u0432\u044b\u0431\u043e\u0440\u043a\u0435"
     ]
    },
    {
     "cell_type": "code",
     "collapsed": false,
     "input": [
      "plt.figure(figsize=(14,10))\n",
      "x_valid, y_valid = load_svmlight_file(validSorted_file)\n",
      "freq = itemfreq(y_valid)\n",
      "freq = dict(zip(map(int,freq.T[0]), map(int,freq.T[1])))\n",
      "sns.distplot(filter(lambda x: x <= 25, freq.values()), bins = 25)\n",
      "plt.show()"
     ],
     "language": "python",
     "metadata": {},
     "outputs": [
      {
       "metadata": {},
       "output_type": "display_data",
       "png": "[encoded data removed]",
       "text": [
        "<matplotlib.figure.Figure at 0x7f8ab65e0690>"
       ]
      }
     ],
     "prompt_number": 9
    },
    {
     "cell_type": "code",
     "collapsed": false,
     "input": [
      "print sorted(freq.items(), reverse=True, key=lambda x: x[1])[:40]"
     ],
     "language": "python",
     "metadata": {},
     "outputs": [
      {
       "output_type": "stream",
       "stream": "stdout",
       "text": [
        "[(49552, 78), (31162, 26), (31158, 20), (143563, 16), (14605, 16), (126216, 14), (27647, 13), (46197, 11), (126914, 11), (139780, 10), (44713, 10), (37443, 9), (45654, 9), (2992, 9), (44268, 9), (25994, 9), (43531, 8), (26363, 8), (133838, 7), (4877, 7), (45849, 7), (45983, 7), (23562, 7), (5142, 7), (15459, 7), (144935, 7), (130994, 7), (22674, 6), (6450, 6), (31250, 6), (31511, 6), (126125, 6), (49316, 6), (5259, 6), (161317, 6), (25877, 6), (46504, 6), (52978, 6), (37852, 6), (34618, 6)]\n"
       ]
      }
     ],
     "prompt_number": 10
    },
    {
     "cell_type": "markdown",
     "metadata": {},
     "source": [
      "### \u0420\u0430\u0441\u043f\u0440\u0435\u0434\u0435\u043b\u0435\u043d\u0438\u0435 \u043a\u0430\u0442\u0435\u0433\u043e\u0440\u0438\u0439 \u043f\u043e \u0447\u0430\u0441\u0442\u043e\u0442\u0435 \u0432 \u0442\u0435\u0441\u0442\u043e\u0432\u043e\u0439 \u0432\u044b\u0431\u043e\u0440\u043a\u0435"
     ]
    },
    {
     "cell_type": "code",
     "collapsed": false,
     "input": [
      "plt.figure(figsize=(14,10))\n",
      "x_test, y_test = load_svmlight_file(testSorted_file)\n",
      "freq = itemfreq(y_test)\n",
      "freq = dict(zip(map(int,freq.T[0]), map(int,freq.T[1])))\n",
      "sns.distplot(filter(lambda x: x <= 25, freq.values()), bins = 25)\n",
      "plt.show()"
     ],
     "language": "python",
     "metadata": {},
     "outputs": [
      {
       "metadata": {},
       "output_type": "display_data",
       "png": "[encoded data removed]",
       "text": [
        "<matplotlib.figure.Figure at 0x7f8ab60f7250>"
       ]
      }
     ],
     "prompt_number": 11
    },
    {
     "cell_type": "code",
     "collapsed": false,
     "input": [
      "print sorted(freq.items(), reverse=True, key=lambda x: x[1])[:40]"
     ],
     "language": "python",
     "metadata": {},
     "outputs": [
      {
       "output_type": "stream",
       "stream": "stdout",
       "text": [
        "[(49552, 78), (31158, 25), (143563, 21), (31162, 19), (126216, 15), (27647, 14), (45654, 12), (14605, 10), (25994, 10), (139780, 9), (48934, 9), (46197, 9), (44268, 9), (126914, 9), (44713, 9), (16300, 9), (5259, 8), (144935, 8), (34618, 8), (139591, 8), (22674, 7), (46382, 7), (6450, 7), (31250, 7), (2992, 7), (25877, 7), (46504, 7), (130994, 7), (52978, 7), (137011, 6), (37443, 6), (133838, 6), (45983, 6), (49316, 6), (23562, 6), (161317, 6), (26363, 6), (43531, 5), (21121, 5), (30876, 5)]\n"
       ]
      }
     ],
     "prompt_number": 12
    },
    {
     "cell_type": "markdown",
     "metadata": {},
     "source": [
      "## \u0412\u0438\u0437\u0443\u0430\u043b\u0438\u0437\u0430\u0446\u0438\u044f \u0441\u0442\u0440\u0443\u043a\u0442\u0443\u0440\u044b \u043a\u043b\u0430\u0441\u0441\u043e\u0432"
     ]
    },
    {
     "cell_type": "code",
     "collapsed": false,
     "input": [
      "# cat_hier = 'dry-run_lshtc_dataset/cat_hier.txt'\n",
      "# f = open(cat_hier)\n",
      "# lines = f.readlines()\n",
      "# lines = map(lambda x: x[:-1], lines)\n",
      "\n",
      "# roots = {}\n",
      "# rootForLeaf = {}\n",
      "# for line in lines:\n",
      "#     leaf = int(line.split(' ')[-1])\n",
      "#     root = line.split(' ')[0]\n",
      "#     rootForLeaf[leaf] = root\n",
      "#     if leaf not in freq:\n",
      "#         continue\n",
      "#     if root not in roots:\n",
      "#         roots[root] = []\n",
      "#     nodes = zip(map(int,line.split(' ')[0:-1]), map(int,line.split(' ')[1:]))\n",
      "#     for i,j in nodes:\n",
      "#         roots[root].append((str(i),str(j)))"
     ],
     "language": "python",
     "metadata": {},
     "outputs": [],
     "prompt_number": 13
    },
    {
     "cell_type": "code",
     "collapsed": false,
     "input": [
      "# for root in roots.keys():\n",
      "#     edges = roots[root]\n",
      "#     graph = pydot.Dot(graph_type='digraph')\n",
      "#     for edge in set(edges):\n",
      "#         graph.add_edge(pydot.Edge(edge[0],edge[1]))\n",
      "#     graph.write_png(cat_visual + \"root_\" + str(root) + '.png')"
     ],
     "language": "python",
     "metadata": {},
     "outputs": [],
     "prompt_number": 14
    },
    {
     "cell_type": "markdown",
     "metadata": {},
     "source": [
      "## \u041f\u0440\u0438\u0432\u0435\u0434\u0435\u043d\u0438\u0435 \u0434\u0430\u043d\u043d\u044b\u0445 \u043a \u043e\u0434\u043d\u043e\u043c\u0443 \u0444\u043e\u0440\u043c\u0430\u0442\u0443"
     ]
    },
    {
     "cell_type": "code",
     "collapsed": false,
     "input": [
      "print x_train.shape\n",
      "print x_valid.shape\n",
      "print x_test.shape"
     ],
     "language": "python",
     "metadata": {},
     "outputs": [
      {
       "output_type": "stream",
       "stream": "stdout",
       "text": [
        "(4463, 1199830)\n",
        "(1860, 1199784)\n",
        "(1858, 1199847)\n"
       ]
      }
     ],
     "prompt_number": 15
    },
    {
     "cell_type": "markdown",
     "metadata": {},
     "source": [
      "## \u041f\u0440\u0438\u0432\u0435\u0434\u0435\u043d\u0438\u0435 \u0434\u0430\u043d\u043d\u044b\u0445 \u043a \u0431\u0438\u043d\u0430\u0440\u043d\u043e\u043c\u0443 \u0432\u0438\u0434\u0443"
     ]
    },
    {
     "cell_type": "code",
     "collapsed": false,
     "input": [
      "idx = np.array(np.where(x_train.sum(axis=0) > 0)[1])[0]\n",
      "idx = filter(lambda x: x < x_valid.shape[1] and x < x_test.shape[1], idx)"
     ],
     "language": "python",
     "metadata": {},
     "outputs": [],
     "prompt_number": 17
    },
    {
     "cell_type": "code",
     "collapsed": false,
     "input": [
      "x_train = x_train.tocsc()[:, idx]\n",
      "x_train_bin = x_train.copy()\n",
      "x_train_bin[x_train_bin > 0] = 1"
     ],
     "language": "python",
     "metadata": {},
     "outputs": [],
     "prompt_number": 18
    },
    {
     "cell_type": "code",
     "collapsed": false,
     "input": [
      "x_valid = x_valid.tocsc()[:, idx]\n",
      "x_valid_bin = x_valid.copy()\n",
      "x_valid_bin[x_valid_bin > 0] = 1"
     ],
     "language": "python",
     "metadata": {},
     "outputs": [],
     "prompt_number": 19
    },
    {
     "cell_type": "code",
     "collapsed": false,
     "input": [
      "x_test = x_test.tocsc()[:, idx]\n",
      "x_test_bin = x_test.copy()\n",
      "x_test_bin[x_test_bin > 0] = 1"
     ],
     "language": "python",
     "metadata": {},
     "outputs": [],
     "prompt_number": 20
    },
    {
     "cell_type": "markdown",
     "metadata": {},
     "source": [
      "## \u041c\u0435\u0442\u0440\u0438\u043a\u0438 \u043a\u0430\u0447\u0435\u0441\u0442\u0432\u0430"
     ]
    },
    {
     "cell_type": "code",
     "collapsed": false,
     "input": [
      "f = open(cat_hier)\n",
      "lines = f.readlines()\n",
      "lines = map(lambda x: x[:-1], lines)\n",
      "DepthAndPredCategory = {}\n",
      "DepthAndPredCategory[0] = (0, -1)\n",
      "for line in lines:\n",
      "    categories = map(int,line.split(' '))\n",
      "    ancestor = 0\n",
      "    for i, category in enumerate(categories):\n",
      "        DepthAndPredCategory[category] = (i+1, ancestor)\n",
      "        ancestor = category"
     ],
     "language": "python",
     "metadata": {},
     "outputs": [],
     "prompt_number": 21
    },
    {
     "cell_type": "code",
     "collapsed": false,
     "input": [
      "from sklearn.metrics import f1_score, accuracy_score, precision_score, recall_score\n",
      "\n",
      "def tree_indiced_error(y, pred):\n",
      "    s = 0\n",
      "    vertices = zip(y, pred)\n",
      "    for v1, v2 in vertices:\n",
      "        while(v1 != v2):\n",
      "            d1, p1 = DepthAndPredCategory[v1]\n",
      "            d2, p2 = DepthAndPredCategory[v2]\n",
      "            if d1 > d2:\n",
      "                v1 = p1\n",
      "                s += 1\n",
      "            elif d1 < d2:\n",
      "                v2 = p2\n",
      "                s += 1\n",
      "            else:\n",
      "                v1 = p1\n",
      "                v2 = p2\n",
      "                s += 2\n",
      "    return s / float(len(y))\n",
      "\n",
      "def res(y, pred, p = True):\n",
      "    if p:\n",
      "        print \"Accuracy = \" + str(accuracy_score(y, pred)*100) \n",
      "        print \"Macro F-measure = \" + str(f1_score(y, pred, average=\"macro\")) \n",
      "        print \"Macro Precision = \" + str(precision_score(y, pred, average=\"macro\")) \n",
      "        print \"Macro Recall = \" + str(recall_score(y, pred, average=\"macro\")) \n",
      "        print \"Tree Induced Error = \" + str(tree_indiced_error(y, pred))\n",
      "    return f1_score(y, pred, average=\"macro\")"
     ],
     "language": "python",
     "metadata": {},
     "outputs": [],
     "prompt_number": 22
    },
    {
     "cell_type": "markdown",
     "metadata": {},
     "source": [
      "## \u041a\u043b\u0430\u0441\u0441\u0438\u0444\u0438\u043a\u0430\u0446\u0438\u044f"
     ]
    },
    {
     "cell_type": "markdown",
     "metadata": {},
     "source": [
      "\u0413\u043b\u0430\u0432\u043d\u043e\u0439 \u043e\u0441\u043e\u0431\u0435\u043d\u043d\u043e\u0441\u0442\u044c\u044e \u0437\u0430\u0434\u0430\u0447\u0438 \u044f\u0432\u043b\u044f\u0435\u0442\u0441\u044f \u0438\u0435\u0440\u0430\u0440\u0445\u0438\u0447\u0435\u0441\u043a\u0430\u044f \u0441\u0442\u0440\u0443\u043a\u0442\u0443\u0440\u0430 \u043a\u043b\u0430\u0441\u0441\u043e\u0432. \u042d\u0442\u043e \u0434\u043e\u043f\u043e\u043b\u043d\u0438\u0442\u0435\u043b\u044c\u043d\u0430\u044f\n",
      "\u0438\u043d\u0444\u043e\u0440\u043c\u0430\u0446\u0438\u044f, \u043a\u043e\u0442\u043e\u0440\u0443\u044e \u043c\u043e\u0436\u043d\u043e \u0438\u0441\u043f\u043e\u043b\u044c\u0437\u043e\u0432\u0430\u0442\u044c, \u043d\u043e \u043c\u043e\u0436\u043d\u043e \u0438 \u043f\u0440\u043e\u0438\u0433\u043d\u043e\u0440\u0438\u0440\u043e\u0432\u0430\u0442\u044c. \u0415\u0441\u043b\u0438 \u0430\u043b\u0433\u043e\u0440\u0438\u0442\u043c \u0443\u0447\u0438\u0442\u044b\u0432\u0430\u0435\u0442\n",
      "\u0438\u0435\u0440\u0430\u0440\u0445\u0438\u044e \u043a\u043b\u0430\u0441\u0441\u043e\u0432, \u043e\u043d \u043d\u0430\u0437\u044b\u0432\u0430\u0435\u0442\u0441\u044f \u0438\u0435\u0440\u0430\u0440\u0445\u0438\u0447\u0435\u0441\u043a\u0438\u043c (hierarchical), \u0435\u0441\u043b\u0438 \u043d\u0435 \u0443\u0447\u0438\u0442\u044b\u0432\u0430\u0435\u0442 \u2013 \u043f\u043b\u043e\u0441\u043a\u0438\u043c (flat)."
     ]
    },
    {
     "cell_type": "markdown",
     "metadata": {},
     "source": [
      "### \u041f\u043b\u043e\u0441\u043a\u0438\u0435 \u043a\u043b\u0430\u0441\u0441\u0438\u0444\u0438\u043a\u0430\u0442\u043e\u0440\u044b"
     ]
    },
    {
     "cell_type": "markdown",
     "metadata": {},
     "source": [
      "\u041b\u0438\u043d\u0435\u0439\u043d\u044b\u0439 \u043a\u043b\u0430\u0441\u0441\u0438\u0444\u0438\u043a\u0430\u0442\u043e\u0440 \u0431\u0435\u0437 TF*IDF"
     ]
    },
    {
     "cell_type": "code",
     "collapsed": false,
     "input": [
      "from sklearn.svm import SVC\n",
      "from sklearn import grid_search\n",
      "parameters = {'C':[0.1, 1, 5, 10]}\n",
      "clf = LinearSVC()\n",
      "clf = grid_search.GridSearchCV(clf, parameters)\n",
      "clf.fit(x_train, y_train)"
     ],
     "language": "python",
     "metadata": {},
     "outputs": [
      {
       "metadata": {},
       "output_type": "pyout",
       "prompt_number": 34,
       "text": [
        "GridSearchCV(cv=None,\n",
        "       estimator=LinearSVC(C=1.0, class_weight=None, dual=True, fit_intercept=True,\n",
        "     intercept_scaling=1, loss='l2', multi_class='ovr', penalty='l2',\n",
        "     random_state=None, tol=0.0001, verbose=0),\n",
        "       fit_params={}, iid=True, loss_func=None, n_jobs=1,\n",
        "       param_grid={'C': [0.1, 1, 5, 10]}, pre_dispatch='2*n_jobs',\n",
        "       refit=True, score_func=None, scoring=None, verbose=0)"
       ]
      }
     ],
     "prompt_number": 34
    },
    {
     "cell_type": "code",
     "collapsed": false,
     "input": [
      "pred_valid = clf.predict(x_valid)\n",
      "pred_test = clf.predict(x_test)"
     ],
     "language": "python",
     "metadata": {},
     "outputs": [],
     "prompt_number": 35
    },
    {
     "cell_type": "code",
     "collapsed": false,
     "input": [
      "res(y_valid, pred_valid)"
     ],
     "language": "python",
     "metadata": {},
     "outputs": [
      {
       "output_type": "stream",
       "stream": "stdout",
       "text": [
        "Accuracy = 37.688172043\n",
        "Macro F-measure = 0.210155476584\n",
        "Macro Precision = 0.204213198851\n",
        "Macro Recall = 0.242273461589\n",
        "Tree Induced Error = 4.55053763441\n"
       ]
      },
      {
       "metadata": {},
       "output_type": "pyout",
       "prompt_number": 36,
       "text": [
        "0.21015547658352046"
       ]
      }
     ],
     "prompt_number": 36
    },
    {
     "cell_type": "code",
     "collapsed": false,
     "input": [
      "res(y_test, pred_test)"
     ],
     "language": "python",
     "metadata": {},
     "outputs": [
      {
       "output_type": "stream",
       "stream": "stdout",
       "text": [
        "Accuracy = 35.9526372443\n",
        "Macro F-measure = 0.201925231903\n",
        "Macro Precision = 0.196498838095\n",
        "Macro Recall = 0.233212361062\n",
        "Tree Induced Error = 4.60764262648\n"
       ]
      },
      {
       "metadata": {},
       "output_type": "pyout",
       "prompt_number": 29,
       "text": [
        "0.20192523190316247"
       ]
      }
     ],
     "prompt_number": 29
    },
    {
     "cell_type": "markdown",
     "metadata": {},
     "source": [
      "\u041b\u0438\u043d\u0435\u0439\u043d\u044b\u0439 \u043a\u043b\u0430\u0441\u0441\u0438\u0444\u0438\u043a\u0430\u0442\u043e\u0440 \u0441 TF*IDF"
     ]
    },
    {
     "cell_type": "code",
     "collapsed": false,
     "input": [
      "clf = LinearSVC()\n",
      "clf = grid_search.GridSearchCV(clf, parameters)\n",
      "clf.fit(x_train_tfidf, y_train)"
     ],
     "language": "python",
     "metadata": {},
     "outputs": [
      {
       "metadata": {},
       "output_type": "pyout",
       "prompt_number": 30,
       "text": [
        "GridSearchCV(cv=None,\n",
        "       estimator=LinearSVC(C=1.0, class_weight=None, dual=True, fit_intercept=True,\n",
        "     intercept_scaling=1, loss='l2', multi_class='ovr', penalty='l2',\n",
        "     random_state=None, tol=0.0001, verbose=0),\n",
        "       fit_params={}, iid=True, loss_func=None, n_jobs=1,\n",
        "       param_grid={'C': [0.1, 1, 5, 10]}, pre_dispatch='2*n_jobs',\n",
        "       refit=True, score_func=None, scoring=None, verbose=0)"
       ]
      }
     ],
     "prompt_number": 30
    },
    {
     "cell_type": "code",
     "collapsed": false,
     "input": [
      "pred_valid = clf.predict(x_valid_tfidf)\n",
      "pred_test = clf.predict(x_test_tfidf)"
     ],
     "language": "python",
     "metadata": {},
     "outputs": [],
     "prompt_number": 31
    },
    {
     "cell_type": "code",
     "collapsed": false,
     "input": [
      "res(y_valid, pred_valid)"
     ],
     "language": "python",
     "metadata": {},
     "outputs": [
      {
       "output_type": "stream",
       "stream": "stdout",
       "text": [
        "Accuracy = 45.2688172043\n",
        "Macro F-measure = 0.271976185534\n",
        "Macro Precision = 0.258421342702\n",
        "Macro Recall = 0.318441467322\n",
        "Tree Induced Error = 3.80376344086\n"
       ]
      },
      {
       "metadata": {},
       "output_type": "pyout",
       "prompt_number": 32,
       "text": [
        "0.27197618553367092"
       ]
      }
     ],
     "prompt_number": 32
    },
    {
     "cell_type": "code",
     "collapsed": false,
     "input": [
      "res(y_test, pred_test)"
     ],
     "language": "python",
     "metadata": {},
     "outputs": [
      {
       "output_type": "stream",
       "stream": "stdout",
       "text": [
        "Accuracy = 43.1646932185\n",
        "Macro F-measure = 0.275810813338\n",
        "Macro Precision = 0.264281160007\n",
        "Macro Recall = 0.319808823402\n",
        "Tree Induced Error = 3.93541442411\n"
       ]
      },
      {
       "metadata": {},
       "output_type": "pyout",
       "prompt_number": 33,
       "text": [
        "0.27581081333815688"
       ]
      }
     ],
     "prompt_number": 33
    },
    {
     "cell_type": "markdown",
     "metadata": {},
     "source": [
      "### \u041a\u043b\u0430\u0441\u0441\u0438\u0444\u0438\u043a\u0430\u0442\u043e\u0440\u00a0\u0420\u043e\u0448\u0435"
     ]
    },
    {
     "cell_type": "markdown",
     "metadata": {},
     "source": [
      "\u041a\u043b\u0430\u0441\u0441\u0438\u0444\u0438\u043a\u0430\u0442\u043e\u0440 \u0420\u043e\u0448\u0435 (Rocchio) \u2014 \u043e\u0434\u0438\u043d \u0438\u0437 \u0441\u0430\u043c\u044b\u0445 \u043f\u0440\u043e\u0441\u0442\u044b\u0445 \u043c\u0435\u0442\u043e\u0434\u043e\u0432 \u043a\u043b\u0430\u0441\u0441\u0438\u0444\u0438\u043a\u0430\u0446\u0438\u0438. \u0414\u043b\u044f \u043a\u0430\u0436\u0434\u043e\u0439\n",
      "\u043a\u0430\u0442\u0435\u0433\u043e\u0440\u0438\u0438 \u0432\u044b\u0447\u0438\u0441\u043b\u044f\u0435\u0442\u0441\u044f \u0432\u0437\u0432\u0435\u0448\u0435\u043d\u043d\u044b\u0439 \u0446\u0435\u043d\u0442\u0440\u043e\u0438\u0434 \u043f\u043e \u0444\u043e\u0440\u043c\u0443\u043b\u0435:"
     ]
    },
    {
     "cell_type": "markdown",
     "metadata": {},
     "source": [
      "$\\Large g_c = \\frac{1}{|v_c|} \\sum\\limits_{d \\in v_c} d - \\gamma \\frac{1}{|\\bar{v}_{c,k}|} \\sum\\limits_{d \\in \\bar{v}_{c,k}} d$"
     ]
    },
    {
     "cell_type": "markdown",
     "metadata": {},
     "source": [
      "\u041e\u0431\u0440\u0430\u0431\u0430\u0442\u044b\u0432\u0430\u0435\u043c\u044b\u0439 \u0434\u043e\u043a\u0443\u043c\u0435\u043d\u0442 \u043f\u0440\u0438\u043f\u0438\u0441\u044b\u0432\u0430\u0435\u0442\u0441\u044f \u043a \u0442\u043e\u043c\u0443 \u043a\u043b\u0430\u0441\u0441\u0443, \u043a \u0446\u0435\u043d\u0442\u0440\u043e\u0438\u0434\u0443 \u043a\u043e\u0442\u043e\u0440\u043e\u0433\u043e \u043e\u043d \u0431\u043b\u0438\u0436\u0435 \u0432\u0441\u0435\u0433\u043e\n",
      "\u0440\u0430\u0441\u043f\u043e\u043b\u043e\u0436\u0435\u043d. "
     ]
    },
    {
     "cell_type": "markdown",
     "metadata": {},
     "source": [
      "## \u0426\u0435\u043d\u0442\u0440\u043e\u0438\u0434\u043d\u044b\u0439\u00a0\u0430\u043b\u0433\u043e\u0440\u0438\u0442\u043c\u00a0($\\gamma = 0$)"
     ]
    },
    {
     "cell_type": "code",
     "collapsed": false,
     "input": [
      "clf_cosine = NearestCentroid(metric = \"cosine\")\n",
      "clf_euclidean = NearestCentroid(metric = \"euclidean\")\n",
      "\n",
      "clf_cosine.fit(x_train, y_train)\n",
      "clf_euclidean.fit(x_train, y_train)"
     ],
     "language": "python",
     "metadata": {},
     "outputs": [
      {
       "metadata": {},
       "output_type": "pyout",
       "prompt_number": 24,
       "text": [
        "NearestCentroid(metric='euclidean', shrink_threshold=None)"
       ]
      }
     ],
     "prompt_number": 24
    },
    {
     "cell_type": "code",
     "collapsed": false,
     "input": [
      "pred_test = clf_cosine.predict(x_test)\n",
      "res(y_test, pred_test)"
     ],
     "language": "python",
     "metadata": {},
     "outputs": [
      {
       "output_type": "stream",
       "stream": "stdout",
       "text": [
        "Accuracy = 0.370290635091 %\n",
        "Macro F-measure = 0.252875309114\n",
        "Macro Precision = 0.240744029655\n",
        "Macro Recall = 0.307594468206\n",
        "Tree Induced Error = 4.35199138859\n"
       ]
      },
      {
       "metadata": {},
       "output_type": "pyout",
       "prompt_number": 28,
       "text": [
        "0.25287530911384715"
       ]
      }
     ],
     "prompt_number": 28
    },
    {
     "cell_type": "code",
     "collapsed": false,
     "input": [
      "pred_test = clf_euclidean.predict(x_test)\n",
      "res(y_test, pred_test)"
     ],
     "language": "python",
     "metadata": {},
     "outputs": [
      {
       "output_type": "stream",
       "stream": "stdout",
       "text": [
        "Accuracy = 0.239504843918 %\n",
        "Macro F-measure = 0.150084154516\n",
        "Macro Precision = 0.159070511035\n",
        "Macro Recall = 0.164374568205\n",
        "Tree Induced Error = 5.84015069968\n"
       ]
      }
     ],
     "prompt_number": 25
    },
    {
     "cell_type": "code",
     "collapsed": false,
     "input": [
      "transformer = TfidfTransformer()\n",
      "x_train_tfidf = transformer.fit_transform(x_train)\n",
      "x_valid_tfidf = transformer.fit_transform(x_valid)\n",
      "x_test_tfidf = transformer.fit_transform(x_test)\n",
      "clf_cosine.fit(x_train_tfidf, y_train)"
     ],
     "language": "python",
     "metadata": {},
     "outputs": [
      {
       "metadata": {},
       "output_type": "pyout",
       "prompt_number": 25,
       "text": [
        "NearestCentroid(metric='cosine', shrink_threshold=None)"
       ]
      }
     ],
     "prompt_number": 25
    },
    {
     "cell_type": "code",
     "collapsed": false,
     "input": [
      "pred_valid = clf_cosine.predict(x_valid_tfidf)\n",
      "res(y_valid, pred_valid)"
     ],
     "language": "python",
     "metadata": {},
     "outputs": [
      {
       "output_type": "stream",
       "stream": "stdout",
       "text": [
        "Accuracy = 0.454838709677 %\n",
        "Macro F-measure = 0.322660976982\n",
        "Macro Precision = 0.310327748501\n",
        "Macro Recall = 0.380578837317\n",
        "Tree Induced Error = 3.67580645161\n"
       ]
      },
      {
       "metadata": {},
       "output_type": "pyout",
       "prompt_number": 52,
       "text": [
        "0.32266097698223273"
       ]
      }
     ],
     "prompt_number": 52
    },
    {
     "cell_type": "code",
     "collapsed": false,
     "input": [
      "pred_test = clf_cosine.predict(x_test_tfidf)\n",
      "res(y_test, pred_test)"
     ],
     "language": "python",
     "metadata": {},
     "outputs": [
      {
       "output_type": "stream",
       "stream": "stdout",
       "text": [
        "Accuracy = 0.43487621098 %\n",
        "Macro F-measure = 0.302709241909\n",
        "Macro Precision = 0.288534802065\n",
        "Macro Recall = 0.364357748901\n",
        "Tree Induced Error = 3.82992465016\n"
       ]
      },
      {
       "metadata": {},
       "output_type": "pyout",
       "prompt_number": 53,
       "text": [
        "0.30270924190916243"
       ]
      }
     ],
     "prompt_number": 53
    },
    {
     "cell_type": "markdown",
     "metadata": {},
     "source": [
      "## \u0418\u0435\u0440\u0430\u0440\u0445\u0438\u0447\u0435\u0441\u043a\u0438\u0435 \u043a\u043b\u0430\u0441\u0441\u0438\u0444\u0438\u043a\u0430\u0442\u043e\u0440\u044b"
     ]
    },
    {
     "cell_type": "markdown",
     "metadata": {},
     "source": [
      "### Deep Classifier for Large Scale Hierarchical Text Classification (http://lshtc.iit.demokritos.gr/system/files/Turing.pdf)"
     ]
    },
    {
     "cell_type": "markdown",
     "metadata": {},
     "source": [
      "\u041a\u043b\u0430\u0441\u0441\u0438\u0444\u0438\u043a\u0430\u0446\u0438\u044f \u043f\u0440\u043e\u0445\u043e\u0434\u0438\u0442 \u0432 2 \u044d\u0442\u0430\u043f\u0430: \u043f\u0435\u0440\u0432\u044b\u0439 \u2013 \u044d\u0442\u0430\u043f \u043f\u043e\u0438\u0441\u043a\u0430 (Search Stage), \u043d\u0430 \u043a\u043e\u0442\u043e\u0440\u043e\u043c\n",
      "\u0441 \u043f\u043e\u043c\u043e\u0449\u044c\u044e \u043c\u0435\u0442\u043e\u0434\u0430 \u0431\u043b\u0438\u0436\u0430\u0439\u0448\u0435\u0433\u043e \u0441\u043e\u0441\u0435\u0434\u0430 \u043e\u0442\u0431\u0438\u0440\u0430\u0435\u0442\u0441\u044f \u043f\u043e\u0434\u043c\u043d\u043e\u0436\u0435\u0441\u0442\u0432\u043e \u043d\u0430\u0438\u0431\u043e\u043b\u0435\u0435 \u0432\u0435\u0440\u043e\u044f\u0442\u043d\u044b\u0445 \u043a\u043b\u0430\u0441\u0441\u043e\u0432. \u041d\u0430\n",
      "\u0432\u0442\u043e\u0440\u043e\u043c \u044d\u0442\u0430\u043f\u0435, \u043a\u043b\u0430\u0441\u0441\u0438\u0444\u0438\u043a\u0430\u0446\u0438\u043e\u043d\u043d\u043e\u043c (Classification Stage), \u0440\u0430\u0431\u043e\u0442\u0430\u0435\u0442 \u041d\u0430\u0438\u0432\u043d\u044b\u0439 \u0411\u0430\u0439\u0435\u0441\u043e\u0432\u0441\u043a\u0438\u0439 \u0430\u043b\u0433\u043e\u0440\u0438\u0442\u043c, \n",
      "\u043f\u0440\u043e\u0432\u043e\u0434\u044f \u043a\u043b\u0430\u0441\u0441\u0438\u0444\u0438\u043a\u0430\u0446\u0438\u044e \u0442\u043e\u043b\u044c\u043a\u043e \u0441\u0440\u0435\u0434\u0438 \u043e\u0442\u043e\u0431\u0440\u0430\u043d\u043d\u044b\u0445 \u043d\u0430 \u043f\u0440\u0435\u0434\u044b\u0434\u0443\u0449\u0435\u043c \u0448\u0430\u0433\u0435 \u043a\u043b\u0430\u0441\u0441\u043e\u0432. \u041d\u0430 \u043a\u0430\u0436\u0434\u043e\u043c \u044d\u0442\u0430\u043f\u0435\n",
      "\u043a\u043b\u0430\u0441\u0441\u0430\u043c \u043f\u0440\u0438\u043f\u0438\u0441\u044b\u0432\u0430\u044e\u0442\u0441\u044f \u043d\u0435\u043a\u043e\u0442\u043e\u0440\u044b\u0435 \u043e\u0447\u043a\u0438. \u041a\u043e\u043c\u0431\u0438\u043d\u0430\u0446\u0438\u044f \u044d\u0442\u0438\u0445 \u043e\u0447\u043a\u043e\u0432 \u0443\u043a\u0430\u0437\u044b\u0432\u0430\u0435\u0442 \u043d\u0430 \u043d\u0430\u0438\u0431\u043e\u043b\u0435\u0435 \u0432\u0435\u0440\u043e\u044f\u0442\u043d\u044b\u0439\n",
      "\u043a\u043b\u0430\u0441\u0441. "
     ]
    },
    {
     "cell_type": "markdown",
     "metadata": {},
     "source": [
      "#### \u041f\u043e\u0434\u0433\u043e\u0442\u043e\u0432\u043a\u0430"
     ]
    },
    {
     "cell_type": "markdown",
     "metadata": {},
     "source": [
      "###### \u0421\u043e\u0441\u0442\u0430\u0432\u043b\u0435\u043d\u0438\u0435 \u0432\u0435\u043a\u0442\u043e\u0440\u043e\u0432 \u043a\u0430\u0442\u0435\u0433\u043e\u0440\u0438\u0439. \u041a\u0430\u0436\u0434\u043e\u0439 \u043a\u0430\u0442\u0435\u0433\u043e\u0440\u0438\u0438 \u043f\u0440\u0438\u043f\u0438\u0441\u044b\u0432\u0430\u0435\u0442\u0441\u044f \u043e\u0434\u0438\u043d \u0432\u0435\u043a\u0442\u043e\u0440 \u2013 \u0441\u0443\u043c\u043c\u0430 \u0432\u0435\u043a\u0442\u043e\u0440\u043e\u0432, \u043e\u0442\u043d\u043e\u0441\u044f\u0449\u0438\u0445\u0441\u044f \u043a \u0434\u0430\u043d\u043d\u043e\u0439 \u043a\u0430\u0442\u0435\u0433\u043e\u0440\u0438\u0438"
     ]
    },
    {
     "cell_type": "code",
     "collapsed": false,
     "input": [
      "VectorSumsForCategory = np.zeros(shape=[len(set(y_train)), x_train.shape[1]])\n",
      "y_train_req = list(set(y_train))\n",
      "for i, y in enumerate(y_train_req):\n",
      "    s = x_train[y_train == y,]\n",
      "    VectorSumsForCategory[i] = s.sum(axis=0)"
     ],
     "language": "python",
     "metadata": {},
     "outputs": [],
     "prompt_number": 253
    },
    {
     "cell_type": "markdown",
     "metadata": {},
     "source": [
      "##### \u0421\u043e\u0441\u0442\u0430\u0432\u043b\u0435\u043d\u0438\u0435 \u0432\u0435\u043a\u0442\u043e\u0440\u043e\u0432 \u0440\u043e\u0434\u0438\u0442\u0435\u043b\u0435\u0439. \u041a\u0430\u0436\u0434\u044b\u0439 \u0443\u0437\u0435\u043b, \u043f\u0440\u0435\u0434\u0448\u0435\u0441\u0442\u0432\u0443\u044e\u0449\u0438\u0439 \u043b\u0438\u0441\u0442\u0443 \u043f\u043e\u043b\u0443\u0447\u0430\u0435\u0442 \u0432\u0435\u043a\u0442\u043e\u0440 \u043a\u0430\u043a \u0441\u0443\u043c\u043c\u0443 \u0432\u0435\u043a\u0442\u043e\u0440\u043e\u0432 \u0441\u0432\u043e\u0438\u0445 \u0434\u0435\u0442\u0435\u0439"
     ]
    },
    {
     "cell_type": "code",
     "collapsed": false,
     "input": [
      "Ancestors = set()\n",
      "for y in y_train_req:\n",
      "    Ancestor =  DepthAndPredCategory[y][1]\n",
      "    Ancestors.add(Ancestor)\n",
      "Ancestors = list(Ancestors)\n",
      "\n",
      "VectorSumsForAncestor = np.zeros(shape=[len(Ancestors), x_train.shape[1]])\n",
      "for i, y in enumerate(y_train_req):\n",
      "    s = x_train[y_train == y,]\n",
      "    Ancestor =  DepthAndPredCategory[y][1]\n",
      "    h = VectorSumsForAncestor[Ancestors.index(Ancestor)] + s.sum(axis=0)\n",
      "    VectorSumsForAncestor[Ancestors.index(Ancestor)] = h"
     ],
     "language": "python",
     "metadata": {},
     "outputs": [],
     "prompt_number": 24
    },
    {
     "cell_type": "markdown",
     "metadata": {},
     "source": [
      "##### \u041f\u0440\u0435\u043e\u0431\u0440\u0430\u0437\u043e\u0432\u0430\u043d\u0438\u0435 \u0432\u0435\u043a\u0442\u043e\u0440\u043e\u0432. \u041a\u0430\u0436\u0434\u044b\u0439 \u044d\u043b\u0435\u043c\u0435\u043d\u0442 \u0432\u0435\u043a\u0442\u043e\u0440\u0430 \u0437\u0430\u043c\u0435\u043d\u044f\u0435\u0442\u0441\u044f \u043d\u0430 $tf^{0.625} * idf$"
     ]
    },
    {
     "cell_type": "code",
     "collapsed": false,
     "input": [
      "transformer = TfidfTransformer(norm=None,use_idf=False,smooth_idf=False)\n",
      "VectorSumsForCategoryTF = transformer.fit_transform(VectorSumsForCategory)\n",
      "VectorSumsForAncestorTF = transformer.fit_transform(VectorSumsForAncestor)"
     ],
     "language": "python",
     "metadata": {},
     "outputs": [],
     "prompt_number": 25
    },
    {
     "cell_type": "code",
     "collapsed": false,
     "input": [
      "freq = zip([VectorSumsForCategory.shape[0]]*VectorSumsForCategory.shape[1], (VectorSumsForCategory > 0).sum(axis=0))\n",
      "VectorSumsForCategoryIDF = [log(D/float(i)) for D, i in freq]\n",
      "\n",
      "freq = zip([VectorSumsForAncestor.shape[0]]*VectorSumsForAncestor.shape[1], (VectorSumsForAncestor > 0).sum(axis=0))\n",
      "VectorSumsForAncestorIDF = [log(D/float(i)) for D, i in freq]"
     ],
     "language": "python",
     "metadata": {},
     "outputs": [],
     "prompt_number": 26
    },
    {
     "cell_type": "code",
     "collapsed": false,
     "input": [
      "centroidsCategory = csr_matrix(np.power(VectorSumsForCategoryTF.todense(),0.625)).multiply(VectorSumsForCategoryIDF)\n",
      "centroidsAncestor = csr_matrix(np.power(VectorSumsForAncestorTF.todense(),0.625)).multiply(VectorSumsForAncestorIDF)"
     ],
     "language": "python",
     "metadata": {},
     "outputs": [],
     "prompt_number": 27
    },
    {
     "cell_type": "markdown",
     "metadata": {},
     "source": [
      "#### \u041f\u0435\u0440\u0432\u044b\u0439 \u0443\u0440\u043e\u0432\u0435\u043d\u044c (Search Stage) \n",
      "\u0412\u044b\u0447\u0438\u0441\u043b\u044f\u0435\u0442\u0441\u044f \u043a\u043e\u0441\u0438\u043d\u0443\u0441 \u0443\u0433\u043b\u0430 \u043c\u0435\u0436\u0434\u0443 \u043a\u043b\u0430\u0441\u0441\u0438\u0444\u0438\u0446\u0438\u0440\u0443\u0435\u043c\u044b\u043c \u0432\u0435\u043a\u0442\u043e\u0440\u043e\u043c \u0438 \u0432\u0435\u043a\u0442\u043e\u0440\u0430\u043c\u0438 \u043a\u0430\u0442\u0435\u0433\u043e\u0440\u0438\u0439. \u0417\u043d\u0430\u0447\u0435\u043d\u0438\u0435\n",
      "\u043a\u043e\u0441\u0438\u043d\u0443\u0441\u0430 \u2013 \u044d\u0442\u043e \u043e\u0447\u043a\u043e \u043a\u0430\u0442\u0435\u0433\u043e\u0440\u0438\u0438. \u041f\u043e \u043d\u0438\u043c \u043e\u0442\u0431\u0438\u0440\u0430\u044e\u0442\u0441\u044f N (N=150) \u043d\u0430\u0438\u0431\u043e\u043b\u0435\u0435 \u0431\u043b\u0438\u0437\u043a\u0438\u0445 \u043a\u0430\u0442\u0435\u0433\u043e\u0440\u0438\u0439."
     ]
    },
    {
     "cell_type": "code",
     "collapsed": false,
     "input": [
      "nbrsCat = NearestNeighbors(n_neighbors=150, algorithm='brute', metric = \"cosine\").fit(centroidsCategory)"
     ],
     "language": "python",
     "metadata": {},
     "outputs": [],
     "prompt_number": 215
    },
    {
     "cell_type": "code",
     "collapsed": false,
     "input": [
      "neigCat = {}\n",
      "for i in xrange(x_test.shape[0]):\n",
      "    distances, indices = nbrsCat.kneighbors(x_test[i].toarray())\n",
      "    neigCat[i] = dict(zip(indices[0], 1-distances[0]))"
     ],
     "language": "python",
     "metadata": {},
     "outputs": [],
     "prompt_number": 216
    },
    {
     "cell_type": "markdown",
     "metadata": {},
     "source": [
      "\u0414\u0430\u043b\u0435\u0435 \u0432\u044b\u0447\u0438\u0441\u043b\u044f\u0435\u043c \u0431\u043b\u0438\u0437\u043e\u0441\u0442\u044c \u043e\u0431\u044a\u0435\u043a\u0442\u0430 \u043a \u0432\u0435\u043a\u0442\u043e\u0440\u0430\u043c \u0440\u043e\u0434\u0438\u0442\u0435\u043b\u044c\u0441\u043a\u0438\u0445 \u043a\u0430\u0442\u0435\u0433\u043e\u0440\u0438\u0439 \u043e\u0431\u044a\u0435\u043a\u0442\u043e\u0432, \u0432\u043e\u0448\u0435\u0434\u0448\u0438\u0445 \u0432 N \u043b\u0443\u0447\u0448\u0438\u0445. \n",
      "\u041e\u0442\u0431\u0438\u0440\u0430\u0435\u043c K (K = 10) \u0431\u043b\u0438\u0436\u0430\u0439\u0448\u0438\u0445. "
     ]
    },
    {
     "cell_type": "code",
     "collapsed": false,
     "input": [
      "nbrsAnc = NearestNeighbors(n_neighbors=10, algorithm='brute', metric = \"cosine\").fit(centroidsAncestor)"
     ],
     "language": "python",
     "metadata": {},
     "outputs": [],
     "prompt_number": 217
    },
    {
     "cell_type": "code",
     "collapsed": false,
     "input": [
      "neigAnc = {}\n",
      "for i in xrange(x_test.shape[0]):\n",
      "    distances, indices = nbrsAnc.kneighbors(x_test[i].toarray())\n",
      "    neigAnc[i] = dict(zip(indices[0], 1-distances[0]))"
     ],
     "language": "python",
     "metadata": {},
     "outputs": [],
     "prompt_number": 218
    },
    {
     "cell_type": "markdown",
     "metadata": {},
     "source": [
      "\u041f\u043e \u0438\u0442\u043e\u0433\u0430\u043c \u043f\u0435\u0440\u0432\u043e\u0433\u043e \u0448\u0430\u0433\u0430 \u043e\u0441\u0442\u0430\u0435\u0442\u0441\u044f $K=10$ \u043a\u043b\u0430\u0441\u0441\u043e\u0432 \u0441 \u043e\u0447\u043a\u0430\u043c\u0438 \u0432\u0438\u0434\u0430: $rs_c = s_c * s_{p(c)}^{0.52}$, \u0433\u0434\u0435 $s_c$ - \u043e\u0447\u043a\u043e \u043e\u0442 \u0431\u043b\u0438\u0437\u043e\u0441\u0442\u0438 \u0441 \u0432\u0435\u043a\u0442\u043e\u0440\u043e\u043c \u043a\u0430\u0442\u0435\u0433\u043e\u0440\u0438\u0438, $s_{p(c)}^{0.52}$ - \u043e\u0447\u043a\u043e \u0431\u043b\u0438\u0437\u043e\u0441\u0442\u0438 \u043a \u0440\u043e\u0434\u0438\u0442\u0435\u043b\u044c\u0441\u043a\u043e\u043c\u0443 \u0432\u0435\u043a\u0442\u043e\u0440\u0443 \u0434\u0430\u043d\u043d\u043e\u0439 \u043a\u0430\u0442\u0435\u0433\u043e\u0440\u0438\u0438. "
     ]
    },
    {
     "cell_type": "markdown",
     "metadata": {},
     "source": [
      "### \u0412\u0442\u043e\u0440\u043e\u0439 \u0443\u0440\u043e\u0432\u0435\u043d\u044c (Classification Stage) "
     ]
    },
    {
     "cell_type": "markdown",
     "metadata": {},
     "source": [
      "\u041a\u043b\u0430\u0441\u0441\u0438\u0444\u0438\u043a\u0430\u0446\u0438\u044f \u043f\u0440\u043e\u0432\u043e\u0434\u0438\u0442\u0441\u044f \u0442\u043e\u043b\u044c\u043a\u043e \u043f\u043e \u0432\u044b\u0431\u0440\u0430\u043d\u043d\u043e\u043c\u0443 \u043d\u0430 \u043f\u0440\u0435\u0434\u044b\u0434\u0443\u0449\u0435\u043c \u044d\u0442\u0430\u043f\u0435 \u043f\u043e\u0434\u043c\u043d\u043e\u0436\u0435\u0441\u0442\u0432\u0443 \u043a\u043b\u0430\u0441\u0441\u043e\u0432. \n",
      "\u041f\u0440\u0438\u043c\u0435\u043d\u044f\u0435\u0442\u0441\u044f \u0430\u043b\u0433\u043e\u0440\u0438\u0442\u043c \u041d\u0430\u0438\u0432\u043d\u043e\u0433\u043e \u0411\u0430\u0439\u0435\u0441\u0430. "
     ]
    },
    {
     "cell_type": "markdown",
     "metadata": {},
     "source": [
      "\u0417\u043d\u0430\u0447\u0435\u043d\u0438\u044f \u0430\u043f\u0440\u0438\u043e\u0440\u043d\u043e\u0439 \u0432\u0435\u0440\u043e\u044f\u0442\u043d\u043e\u0441\u0442\u0438 \u043f\u043e\u044f\u0432\u043b\u0435\u043d\u0438\u044f \u0441\u043b\u043e\u0432\u0430 \u0432 \u043a\u0430\u0442\u0435\u0433\u043e\u0440\u0438\u0438 \u0432\u044b\u0447\u0438\u0441\u043b\u044f\u0435\u0442\u0441\u044f \u043f\u043e \u0444\u043e\u0440\u043c\u0443\u043b\u0435: $\\Large p(t_i|c) = \\frac{N_c^i + \\alpha}{N_c + V\\alpha}$, \u0433\u0434\u0435 $N_c^i$ \u043e\u0437\u043d\u0430\u0447\u0430\u0435\u0442, \u0441\u043a\u043e\u043b\u044c\u043a\u043e \u0440\u0430\u0437 \u0441\u043b\u043e\u0432\u043e $i$, \u0432\u0441\u0442\u0440\u0435\u0447\u0430\u0435\u0442\u0441\u044f \u0432 \u043a\u0430\u0442\u0435\u0433\u043e\u0440\u0438\u0438 $c$, $N_c$ - \u0441\u0443\u043c\u043c\u0430 \u0432\u0441\u0435\u0445 \u0441\u043b\u043e\u0432 \u0432\n",
      "\u043a\u0430\u0442\u0435\u0433\u043e\u0440\u0438\u0438 c, $V$ - \u0440\u0430\u0437\u043c\u0435\u0440 \u0442\u0435\u043a\u0443\u0449\u0435\u0433\u043e \u0441\u043b\u043e\u0432\u0430\u0440\u044f, $\\alpha$ \u2013 \u043f\u0430\u0440\u0430\u043c\u0435\u0442\u0440. "
     ]
    },
    {
     "cell_type": "markdown",
     "metadata": {},
     "source": [
      "\u0420\u0430\u0437\u043c\u0435\u0440 \u0441\u043b\u043e\u0432\u0430\u0440\u044f \u043c\u0435\u043d\u044f\u0435\u0442\u0441\u044f \u043e\u0442 \u0442\u0435\u0441\u0442\u0430 \u043a \u0442\u0435\u0441\u0442\u0443. \u0414\u043b\u044f \u043a\u0430\u0436\u0434\u043e\u0433\u043e \u043b\u0443\u0447\u0448\u0435 \u043f\u043e\u0434\u0431\u0438\u0440\u0430\u0442\u044c \u0441\u0432\u043e\u0439 \u043f\u0430\u0440\u0430\u043c\u0435\u0442\u0440 $\\alpha$ "
     ]
    },
    {
     "cell_type": "code",
     "collapsed": false,
     "input": [
      "pred = []\n",
      "for t in xrange(x_test.shape[0]):\n",
      "    rs = {}\n",
      "    for j, y in enumerate(y_train_req):\n",
      "        Ancestor =  DepthAndPredCategory[y][1]\n",
      "        if (j in neigCat[t]) and (Ancestors.index(Ancestor) in neigAnc[t]):\n",
      "            rs[y] = neigCat[t][j] * pow(neigAnc[t][Ancestors.index(Ancestor)], 0.52)\n",
      "    k_keys_sorted = heapq.nlargest(10, rs)\n",
      "    idx = []\n",
      "    for i, y in enumerate(y_train):\n",
      "        if y in k_keys_sorted:\n",
      "            idx.append(i)\n",
      "    xTrain = x_train[idx,]\n",
      "    yTrain = y_train[idx,]\n",
      "    clf = MultinomialNB(alpha=0.3)\n",
      "    clf.fit(xTrain, yTrain)\n",
      "    ns = dict(zip(clf.classes_, clf.predict_proba(x_test[t])[0]))\n",
      "    ans = {}\n",
      "    for k in k_keys_sorted:\n",
      "        ans[k] = pow(rs[k],0.12) * ns[k]\n",
      "    pred.append(max(ans, key=ans.get))"
     ],
     "language": "python",
     "metadata": {},
     "outputs": [],
     "prompt_number": 219
    },
    {
     "cell_type": "markdown",
     "metadata": {},
     "source": [
      "##### \u0420\u0435\u0448\u0430\u044e\u0449\u0435\u0435 \u043f\u0440\u0430\u0432\u0438\u043b\u043e\n",
      "\u0418\u0442\u043e\u0433\u043e\u0432\u044b\u0435 \u043e\u0447\u043a\u0438 \u043a\u043b\u0430\u0441\u0441\u043e\u0432 \u0432\u044b\u0447\u0438\u0441\u043b\u044f\u044e\u0442\u0441\u044f \u043a\u0430\u043a \u043a\u043e\u043c\u0431\u0438\u043d\u0430\u0446\u0438\u044f \u043e\u0447\u043a\u043e\u0432, \u043f\u043e\u043b\u0443\u0447\u0435\u043d\u043d\u044b\u0445 \u043d\u0430 \u0434\u0432\u0443\u0445 \u043f\u0440\u0435\u0434\u044b\u0434\u0443\u0449\u0438\u0445 \u0448\u0430\u0433\u0430\u0445:\n",
      "$s_c = rs_c^{0.12} * ns_c$"
     ]
    },
    {
     "cell_type": "heading",
     "level": 5,
     "metadata": {},
     "source": [
      "Accuracy = 0.443062, Macro F-Measure = 0.336739, Macro Precision = 0.314129, Macro Recall = 0.362856, TID = 3.36307"
     ]
    },
    {
     "cell_type": "markdown",
     "metadata": {},
     "source": [
      "### Hierarchical Centroid based Classifier for Large Scale Text Classification (http://lshtc.iit.demokritos.gr/system/files/XipengQiu.pdf)"
     ]
    },
    {
     "cell_type": "markdown",
     "metadata": {},
     "source": [
      "\u0412\u044b\u0447\u0438\u0441\u043b\u044f\u044e\u0442\u0441\u044f \u043e\u0447\u043a\u0438 \u043a\u043b\u0430\u0441\u0441\u043e\u0432, \u043e\u0441\u043d\u043e\u0432\u0430\u043d\u043d\u044b\u0435 \u043d\u0430 \u0431\u043b\u0438\u0437\u043e\u0441\u0442\u0438 \u043e\u0431\u044a\u0435\u043a\u0442\u0430 \u043a \u0446\u0435\u043d\u0442\u0440\u0430\u043c \u043a\u043b\u0430\u0441\u0441\u043e\u0432. \u041f\u0440\u0438\n",
      "\u044d\u0442\u043e\u043c \u0438\u0441\u043f\u043e\u043b\u044c\u0437\u0443\u0435\u0442\u0441\u044f \u0438\u043d\u0444\u043e\u0440\u043c\u0430\u0446\u0438\u0438 \u043e\u0431 \u0438\u0435\u0440\u0430\u0440\u0445\u0438\u0438 \u043a\u043b\u0430\u0441\u0441\u043e\u0432:\n",
      "$\\large \\DeclareMathOperator*{\\argmax}{\\arg\\!\\max} \\hat{c} = \\argmax_c ( w_c + w_{p(c)})d$, \u0433\u0434\u0435 $w_c$ \u2013 \u0446\u0435\u043d\u0442\u0440 \u043c\u0430\u0441\u0441 \u043a\u043b\u0430\u0441\u0441\u0430 $c$, $w_{p(c)}$ \u2013 \u0446\u0435\u043d\u0442\u0440 \u043c\u0430\u0441\u0441 \u0443\u0437\u043b\u0430-\u0440\u043e\u0434\u0438\u0442\u0435\u043b\u044f \u043a\u043b\u0430\u0441\u0441\u0430 $c$, d - \u043a\u043b\u0430\u0441\u0441\u0438\u0444\u0438\u0446\u0438\u0440\u0443\u0435\u043c\u044b\u0439 \u0434\u043e\u043a\u0443\u043c\u0435\u043d\u0442."
     ]
    },
    {
     "cell_type": "markdown",
     "metadata": {},
     "source": [
      "$\\large w_c = b * w_c^{TF} + (1-b) * w_c^0$, \u0433\u0434\u0435"
     ]
    },
    {
     "cell_type": "markdown",
     "metadata": {},
     "source": [
      "$\\large w_c^{TF} = \\frac{1}{|c|} \\sum\\limits_{d \\in c} d^{TF}$: \u0432\u0441\u0435 \u044d\u043b\u0435\u043c\u0435\u043d\u0442\u044b \u0432\u0435\u043a\u0442\u043e\u0440\u043e\u0432 \u0437\u0430\u043c\u0435\u043d\u044f\u044e\u0442\u0441\u044f \u043d\u0430 $TF$. \u0421\u0440\u0435\u0434\u043d\u0435\u0435 \u043a\u043b\u0430\u0441\u0441\u043e\u0432 \u0432\u044b\u0447\u0438\u0441\u043b\u044f\u0435\u0442\u0441\u044f \u043a\u0430\u043a \u0441\u0443\u043c\u043c\u0430\n",
      "\u043f\u0440\u0435\u043e\u0431\u0440\u0430\u0437\u043e\u0432\u0430\u043d\u043d\u044b\u0445 \u0432\u0435\u043a\u0442\u043e\u0440\u043e\u0432, \u0432\u0445\u043e\u0434\u044f\u0449\u0438\u0445 \u0432 \u0434\u0430\u043d\u043d\u044b\u0439 \u043a\u043b\u0430\u0441\u0441"
     ]
    },
    {
     "cell_type": "code",
     "collapsed": false,
     "input": [
      "transformer = TfidfTransformer(use_idf=False)\n",
      "x_trainTF = transformer.fit_transform(x_train)"
     ],
     "language": "python",
     "metadata": {},
     "outputs": [],
     "prompt_number": 328
    },
    {
     "cell_type": "code",
     "collapsed": false,
     "input": [
      "VectorMeansForCategory = np.zeros(shape=[len(set(y_train)), x_train.shape[1]])\n",
      "y_train_req = list(set(y_train))\n",
      "for i, y in enumerate(y_train_req):\n",
      "    s = x_trainTF[y_train == y,]\n",
      "    VectorMeansForCategory[i] = s.mean(axis=0)"
     ],
     "language": "python",
     "metadata": {},
     "outputs": [],
     "prompt_number": 329
    },
    {
     "cell_type": "code",
     "collapsed": false,
     "input": [
      "alpha = 0.1\n",
      "b = 0.4"
     ],
     "language": "python",
     "metadata": {},
     "outputs": [],
     "prompt_number": 330
    },
    {
     "cell_type": "markdown",
     "metadata": {},
     "source": [
      "$\\large w_c^{0} = IDF * \\sum\\limits_{d \\in c} [d>0]$: \u0432\u0441\u0435 \u043e\u0431\u044a\u0435\u043a\u0442\u044b \u043f\u0440\u0438\u0432\u043e\u0434\u044f\u0442\u0441\u044f \u043a \u0431\u0438\u043d\u0430\u0440\u043d\u043e\u043c\u0443 \u0432\u0438\u0434\u0443 (1, \u0435\u0441\u043b\u0438 \u0441\u043b\u043e\u0432\u043e \u0432\u0441\u0442\u0440\u0435\u0447\u0430\u0435\u0442\u0441\u044f \u0432\n",
      "\u0434\u043e\u043a\u0443\u043c\u0435\u043d\u0442\u0435, 0 \u0438\u043d\u0430\u0447\u0435), \u0434\u0430\u043b\u0435\u0435 \u044d\u0442\u0438 \u043e\u0431\u044a\u0435\u043a\u0442\u044b \u0441\u0443\u043c\u043c\u0438\u0440\u0443\u044e\u0442\u0441\u044f \u0438 \u0443\u043c\u043d\u043e\u0436\u0430\u044e\u0442\u0441\u044f \u043d\u0430 $IDF$. "
     ]
    },
    {
     "cell_type": "code",
     "collapsed": false,
     "input": [
      "VectorMeansForCategoryBin = np.zeros(shape=[len(set(y_train)), x_train.shape[1]])\n",
      "for i, y in enumerate(y_train_req):\n",
      "    s = x_trainTF[y_train == y,]\n",
      "    VectorMeansForCategoryBin[i] = s.mean(axis=0)"
     ],
     "language": "python",
     "metadata": {},
     "outputs": [],
     "prompt_number": 331
    },
    {
     "cell_type": "markdown",
     "metadata": {},
     "source": [
      "$\\large IDF = (\\log \\frac{|D|}{n_i})^\\alpha, \\alpha \\in [0,1]$"
     ]
    },
    {
     "cell_type": "code",
     "collapsed": false,
     "input": [
      "freq = zip([x_train_bin.shape[0]]*x_train_bin.shape[1], np.array((x_train_bin > 0).sum(axis=0))[0])\n",
      "x_trainIDF = [pow(log(D/float(i)),alpha) for D, i in freq]"
     ],
     "language": "python",
     "metadata": {},
     "outputs": [],
     "prompt_number": 332
    },
    {
     "cell_type": "code",
     "collapsed": false,
     "input": [
      "w =  b*VectorMeansForCategory + (1-b)*csr_matrix(VectorMeansForCategoryBin).multiply(x_trainIDF)"
     ],
     "language": "python",
     "metadata": {},
     "outputs": [],
     "prompt_number": 333
    },
    {
     "cell_type": "code",
     "collapsed": false,
     "input": [
      "clf_cosine = NearestCentroid(metric = \"cosine\")\n",
      "clf_cosine.fit(w, y_train_req)"
     ],
     "language": "python",
     "metadata": {},
     "outputs": [
      {
       "metadata": {},
       "output_type": "pyout",
       "prompt_number": 334,
       "text": [
        "NearestCentroid(metric='cosine', shrink_threshold=None)"
       ]
      }
     ],
     "prompt_number": 334
    },
    {
     "cell_type": "markdown",
     "metadata": {},
     "source": [
      "### Improving Hierarchical SVMs by Hierarchy Flattening and Lazy Classification"
     ]
    },
    {
     "cell_type": "markdown",
     "metadata": {},
     "source": [
      "\u0418\u0441\u043f\u043e\u043b\u044c\u0437\u0443\u0435\u0442\u0441\u044f \u0441\u0442\u0430\u043d\u0434\u0430\u0440\u0442\u043d\u044b\u0439 SVM. \u041f\u043e\u0434\u0433\u043e\u0442\u043e\u0432\u043a\u0430: \u0441\u0442\u0430\u043d\u0434\u0430\u0440\u0442\u043d\u044b\u0439 TD * IDF. \u0414\u043b\u044f \u0443\u043b\u0443\u0447\u0448\u0435\u043d\u0438\u044f \u043a\u043b\u0430\u0441\u0441\u0438\u0444\u0438\u043a\u0430\u0446\u0438\u0438 \u0438\u0441\u043f\u043e\u043b\u044c\u0437\u0443\u0435\u0442\u0441\u044f\n",
      "\u0442\u0435\u0445\u043d\u0438\u043a\u0430 \u0443\u043f\u0440\u043e\u0449\u0435\u043d\u0438\u044f \u0438\u0435\u0440\u0430\u0440\u0445\u0438\u0438 \u0438 \u0442\u0435\u0445\u043d\u0438\u043a\u0430 \u043b\u0435\u043d\u0438\u0432\u043e\u0433\u043e \u043a\u043b\u0430\u0441\u0441\u0438\u0444\u0438\u043a\u0430\u0442\u043e\u0440\u0430 (Lazy Classification). "
     ]
    },
    {
     "cell_type": "markdown",
     "metadata": {},
     "source": [
      "##### \u0423\u043f\u0440\u043e\u0449\u0435\u043d\u0438\u0435 \u0438\u0435\u0440\u0430\u0440\u0445\u0438\u0438 (Hierarchy Flattening) \n",
      "\u0418\u0441\u043f\u043e\u043b\u044c\u0437\u0443\u0435\u043c \u043d\u0430\u0447\u0430\u043b\u044c\u043d\u0443\u044e \u0438\u0435\u0440\u0430\u0440\u0445\u0438\u044e \u043a\u043b\u0430\u0441\u0441\u043e\u0432 \u0434\u043e $k$-\u0433\u043e \u0443\u0440\u043e\u0432\u043d\u044f. \u0412\u0441\u0435 \u043a\u043b\u0430\u0441\u0441\u044b, \u043d\u0430\u0445\u043e\u0434\u044f\u0449\u0438\u0435\u0441\u044f \u043d\u0438\u0436\u0435 \u044d\u0442\u043e\u0433\u043e\n",
      "\u0443\u0440\u043e\u0432\u043d\u044f, \u0441\u0442\u0430\u043d\u043e\u0432\u044f\u0442\u0441\u044f \u043d\u0435\u043f\u043e\u0441\u0440\u0435\u0434\u0441\u0442\u0432\u0435\u043d\u043d\u044b\u043c\u0438 \u0434\u0435\u0442\u044c\u043c\u0438 \u0443\u0437\u043b\u043e\u0432 $k$-\u0433\u043e \u0443\u0440\u043e\u0432\u043d\u044f. \u0422\u043e \u0435\u0441\u0442\u044c, \u043f\u043e\u0441\u043b\u0435 $k$-\u0433\u043e \u0443\u0440\u043e\u0432\u043d\u044f\n",
      "\u043a\u043b\u0430\u0441\u0441\u0438\u0444\u0438\u043a\u0430\u0442\u043e\u0440 \u0441\u0442\u0430\u043d\u043e\u0432\u0438\u0442\u0441\u044f \u043f\u043b\u043e\u0441\u043a\u0438\u043c. \u0412 \u043a\u0430\u0436\u0434\u043e\u043c \u0432\u043d\u0443\u0442\u0440\u0435\u043d\u043d\u0435\u043c \u0443\u0437\u043b\u0435 \u043a\u043b\u0430\u0441\u0441\u0438\u0444\u0438\u043a\u0430\u0442\u043e\u0440 \u043d\u0430\u0441\u0442\u0440\u0430\u0438\u0432\u0430\u0435\u0442\u0441\u044f \u043e\u0442\u0434\u0435\u043b\u044c\u043d\u043e. "
     ]
    },
    {
     "cell_type": "markdown",
     "metadata": {},
     "source": [
      "##### \u041b\u0435\u043d\u0438\u0432\u044b\u0439 \u043a\u043b\u0430\u0441\u0441\u0438\u0444\u0438\u043a\u0430\u0442\u043e\u0440(Lazy Classification) \n",
      "\u0414\u0430\u043d\u043d\u0430\u044f \u0442\u0435\u0445\u043d\u0438\u043a\u0430 \u043f\u0440\u0435\u0434\u0441\u0442\u0430\u0432\u043b\u044f\u0435\u0442 \u0441\u043e\u0431\u043e\u0439 \u0434\u0432\u0443\u0445\u0443\u0440\u043e\u0432\u043d\u0435\u0432\u0443\u044e \u043a\u043b\u0430\u0441\u0441\u0438\u0444\u0438\u043a\u0430\u0446\u0438\u044e: \u0432\u044b\u0431\u043e\u0440 \u043f\u043e\u0434\u043c\u043d\u043e\u0436\u0435\u0441\u0442\u0432\u0430 \u043d\u0430\u0438\u0431\u043e\u043b\u0435\u0435\n",
      "\u0432\u0435\u0440\u043e\u044f\u0442\u043d\u044b\u0445 \u043a\u043b\u0430\u0441\u0441\u043e\u0432, \u0437\u0430\u0442\u0435\u043c \u043a\u043b\u0430\u0441\u0441\u0438\u0444\u0438\u043a\u0430\u0446\u0438\u044f \u0441\u0440\u0435\u0434\u0438 \u044d\u0442\u043e\u0433\u043e \u043f\u043e\u0434\u043c\u043d\u043e\u0436\u0435\u0441\u0442\u0432\u0430.\n",
      "\u041f\u0440\u0438 \u043a\u043b\u0430\u0441\u0441\u0438\u0444\u0438\u043a\u0430\u0446\u0438\u0438 \u043d\u0430 \u043a\u0430\u0436\u0434\u043e\u043c \u0443\u0440\u043e\u0432\u043d\u0435 \u0438\u0435\u0440\u0430\u0440\u0445\u0438\u0438 \u043e\u0442\u0431\u0438\u0440\u0430\u0435\u0442\u0441\u044f $n$ \u043d\u0430\u0438\u0431\u043e\u043b\u0435\u0435 \u0432\u0435\u0440\u043e\u044f\u0442\u043d\u044b\u0445 \u0443\u0437\u043b\u0430 (\u043a\u043e\u0442\u043e\u0440\u044b\u0435\n",
      "\u043f\u043e\u043b\u0443\u0447\u0438\u043b\u0438 \u043d\u0430\u0438\u0431\u043e\u043b\u044c\u0448\u0435 \u043a\u043e\u043b\u0438\u0447\u0435\u0441\u0442\u0432\u043e \u043e\u0447\u043a\u043e\u0432). \u041d\u0430 \u0443\u0440\u043e\u0432\u043d\u0435 \u043d\u0438\u0436\u0435, \u0432\u043d\u0443\u0442\u0440\u0438 \u043a\u0430\u0436\u0434\u043e\u0433\u043e \u0438\u0437 \u0432\u044b\u0431\u0440\u0430\u043d\u043d\u044b\u0445 \u0443\u0437\u043b\u043e\u0432, \u043e\u043f\u044f\u0442\u044c\n",
      "\u043e\u0442\u0431\u0438\u0440\u0430\u0435\u0442\u0441\u044f $n$ \u043d\u0430\u0438\u0431\u043e\u043b\u0435\u0435 \u0432\u0435\u0440\u043e\u044f\u0442\u043d\u044b\u0445 \u0443\u0437\u043b\u0430. \u0412 \u0438\u0442\u043e\u0433\u0435 \u043f\u043e\u043b\u0443\u0447\u0430\u0435\u0442\u0441\u044f \u043f\u043e\u0434\u043c\u043d\u043e\u0436\u0435\u0441\u0442\u0432\u043e \u043a\u043b\u0430\u0441\u0441\u043e\u0432, \u0441\u0440\u0435\u0434\u0438 \u043a\u043e\u0442\u043e\u0440\u044b\u0445\n",
      "\u0440\u0430\u0431\u043e\u0442\u0430\u0435\u0442 \u0443\u0436\u0435 \u043f\u043b\u043e\u0441\u043a\u0438\u0439 \u043a\u043b\u0430\u0441\u0441\u0438\u0444\u0438\u043a\u0430\u0442\u043e\u0440. "
     ]
    },
    {
     "cell_type": "markdown",
     "metadata": {},
     "source": [
      "$k = 2, n = 8$"
     ]
    },
    {
     "cell_type": "heading",
     "level": 5,
     "metadata": {},
     "source": [
      "Accuracy = 0.41522, Macro F-Measure = 0.328591, Macro Precision = 0.296748, Macro Recall = 0.36809, TID = 3.57964\t\t\t"
     ]
    },
    {
     "cell_type": "markdown",
     "metadata": {},
     "source": [
      "### Improved Hierarchical SVMs for Large scale Hierarchical Text Classification Challenge"
     ]
    },
    {
     "cell_type": "markdown",
     "metadata": {},
     "source": [
      "1. \u041f\u0440\u0435\u043e\u0431\u0440\u0430\u0437\u043e\u0432\u0430\u043d\u0438\u0435 \u043f\u0440\u0438\u0437\u043d\u0430\u043a\u043e\u0432 TF * IDF \n",
      "2. \u0423\u043f\u0440\u043e\u0449\u0435\u043d\u0438\u0435 \u0438\u0435\u0440\u0430\u0440\u0445\u0438\u0438 \u043a\u043b\u0430\u0441\u0441\u043e\u0432: \u041f\u0440\u043e\u0445\u043e\u0434\u0438\u043c \u043f\u043e \u0434\u0435\u0440\u0435\u0432\u0443 \u0441\u0432\u0435\u0440\u0445\u0443 \u0432\u043d\u0438\u0437. \u0415\u0441\u043b\u0438 \u0432\u044b\u044f\u0432\u043b\u044f\u0435\u0442\u0441\u044f \u0443\u0437\u0435\u043b, \u043a\u043e\u043b\u0438\u0447\u0435\u0441\u0442\u0432\u043e \u043f\u043e\u0442\u043e\u043c\u043a\u043e\u0432 \u043a\u043e\u0442\u043e\u0440\u043e\u0433\u043e \u043c\u0435\u043d\u044c\u0448\u0435 \u043f\u043e\u0440\u043e\u0433\u0430 \u0438 \u044d\u0442\u0438 \u043f\u043e\u0442\u043e\u043c\u043a\u0438 \u043d\u0435 \u044f\u0432\u043b\u044f\u044e\u0442\u0441\u044f \u043b\u0438\u0441\u0442\u044c\u044f\u043c\u0438, \u0442\u043e \u043f\u043e\u0442\u043e\u043c\u043a\u0438 \u043d\u0430\u043f\u0440\u044f\u043c\u0443\u044e \u0441\u0432\u044f\u0437\u044b\u0432\u0430\u044e\u0442\u0441\u044f \u0441 \u0440\u0430\u0441\u0441\u043c\u0430\u0442\u0440\u0438\u0432\u0430\u0435\u043c\u044b\u043c \u0443\u0437\u043b\u043e\u043c, \u0430 \u0443\u0437\u0435\u043b \u0443\u0431\u0438\u0440\u0430\u0435\u0442\u0441\u044f \u0438\u0437 \u0438\u0435\u0440\u0430\u0440\u0445\u0438\u0438 \u0441\u043e\u0432\u0441\u0435\u043c.\n",
      "3. \u0417\u0430\u0442\u0435\u043c \u043e\u0431\u0443\u0447\u0430\u0435\u043c SVM \u043d\u0430 \u043a\u0430\u0436\u0434\u043e\u043c \u0443\u0440\u043e\u0432\u043d\u0435 \u0441 \u043f\u043e\u043c\u043e\u0449\u044c\u044e \u043a\u0440\u043e\u0441\u0441-\u0432\u0430\u043b\u0438\u0434\u0430\u0446\u0438\u0438."
     ]
    },
    {
     "cell_type": "heading",
     "level": 5,
     "metadata": {},
     "source": [
      "Accuracy = 0.443291, Macro F-Measure = 0.31965, Macro Precision = 0.303413, Macro Recall = 0.337723, TID = 3.29289"
     ]
    },
    {
     "cell_type": "code",
     "collapsed": false,
     "input": [],
     "language": "python",
     "metadata": {},
     "outputs": []
    }
   ],
   "metadata": {}
  }
 ]
}